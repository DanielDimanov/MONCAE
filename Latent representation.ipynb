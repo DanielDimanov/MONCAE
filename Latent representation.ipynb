{
 "cells": [
  {
   "cell_type": "code",
   "execution_count": 38,
   "id": "60f89840",
   "metadata": {},
   "outputs": [],
   "source": [
    "import numpy as np\n",
    "from tensorflow import keras\n",
    "from tensorflow.keras import layers\n",
    "import tensorflow as tf\n",
    "tf.config.run_functions_eagerly(True)\n",
    "from sklearn.metrics import confusion_matrix\n"
   ]
  },
  {
   "cell_type": "code",
   "execution_count": 2,
   "id": "b436135b",
   "metadata": {},
   "outputs": [
    {
     "name": "stdout",
     "output_type": "stream",
     "text": [
      "x_train shape: (60000, 28, 28, 1)\n",
      "60000 train samples\n",
      "10000 test samples\n"
     ]
    }
   ],
   "source": [
    "# Model / data parameters\n",
    "num_classes = 10\n",
    "input_shape = (28, 28, 1)\n",
    "\n",
    "# the data, split between train and test sets\n",
    "(x_train, y_train), (x_test, y_test) = keras.datasets.fashion_mnist.load_data()\n",
    "\n",
    "# Scale images to the [0, 1] range\n",
    "x_train = x_train.astype(\"float32\") / 255\n",
    "x_test = x_test.astype(\"float32\") / 255\n",
    "x_train = np.expand_dims(x_train, -1)\n",
    "x_test = np.expand_dims(x_test, -1)\n",
    "print(\"x_train shape:\", x_train.shape)\n",
    "print(x_train.shape[0], \"train samples\")\n",
    "print(x_test.shape[0], \"test samples\")\n",
    "\n",
    "\n",
    "# convert class vectors to binary class matrices\n",
    "y_train = keras.utils.to_categorical(y_train, num_classes)\n",
    "y_test = keras.utils.to_categorical(y_test, num_classes)"
   ]
  },
  {
   "cell_type": "code",
   "execution_count": 138,
   "id": "b08f9b61",
   "metadata": {},
   "outputs": [],
   "source": [
    "all_latent_results = [] \n",
    "all_latent_confs = [] \n",
    "all_cl_results = [] \n",
    "all_cl_confs = [] \n",
    "all_enc_results = [] \n",
    "all_enc_confs = [] "
   ]
  },
  {
   "cell_type": "code",
   "execution_count": 132,
   "id": "25cc6da7",
   "metadata": {},
   "outputs": [],
   "source": [
    "SEEDS = [42,28,24,12,76,37,95,58,86,61]"
   ]
  },
  {
   "cell_type": "code",
   "execution_count": 137,
   "id": "7b0435fe",
   "metadata": {},
   "outputs": [
    {
     "name": "stderr",
     "output_type": "stream",
     "text": [
      "  0%|                                                                                           | 0/10 [00:00<?, ?it/s]"
     ]
    },
    {
     "name": "stdout",
     "output_type": "stream",
     "text": [
      "313/313 [==============================] - 2s 6ms/step - loss: 0.2740 - accuracy: 0.9035\n",
      "313/313 [==============================] - 2s 5ms/step - loss: 0.3377 - accuracy: 0.8823\n",
      "313/313 [==============================] - 2s 6ms/step - loss: 0.2679 - accuracy: 0.9064\n"
     ]
    },
    {
     "name": "stderr",
     "output_type": "stream",
     "text": [
      " 10%|███████▉                                                                       | 1/10 [26:24<3:57:39, 1584.44s/it]"
     ]
    },
    {
     "name": "stdout",
     "output_type": "stream",
     "text": [
      "313/313 [==============================] - 2s 6ms/step - loss: 0.2723 - accuracy: 0.9036\n",
      "313/313 [==============================] - 2s 5ms/step - loss: 0.3429 - accuracy: 0.8820\n",
      "313/313 [==============================] - 2s 6ms/step - loss: 0.2783 - accuracy: 0.9000\n"
     ]
    },
    {
     "name": "stderr",
     "output_type": "stream",
     "text": [
      " 20%|███████████████▊                                                               | 2/10 [51:46<3:28:46, 1565.77s/it]"
     ]
    },
    {
     "name": "stdout",
     "output_type": "stream",
     "text": [
      "313/313 [==============================] - 2s 6ms/step - loss: 0.2766 - accuracy: 0.9007\n",
      "313/313 [==============================] - 2s 5ms/step - loss: 0.3435 - accuracy: 0.8794\n",
      "313/313 [==============================] - 2s 6ms/step - loss: 0.2612 - accuracy: 0.9094\n"
     ]
    },
    {
     "name": "stderr",
     "output_type": "stream",
     "text": [
      " 30%|███████████████████████                                                      | 3/10 [1:17:09<3:01:10, 1552.91s/it]"
     ]
    },
    {
     "name": "stdout",
     "output_type": "stream",
     "text": [
      "313/313 [==============================] - 2s 6ms/step - loss: 0.2705 - accuracy: 0.9034\n",
      "313/313 [==============================] - 2s 5ms/step - loss: 0.3324 - accuracy: 0.8845\n",
      "313/313 [==============================] - 2s 6ms/step - loss: 0.2620 - accuracy: 0.9095\n"
     ]
    },
    {
     "name": "stderr",
     "output_type": "stream",
     "text": [
      " 40%|██████████████████████████████▊                                              | 4/10 [1:45:25<2:39:34, 1595.74s/it]"
     ]
    },
    {
     "name": "stdout",
     "output_type": "stream",
     "text": [
      "313/313 [==============================] - 2s 6ms/step - loss: 0.2632 - accuracy: 0.9069\n",
      "313/313 [==============================] - 1s 5ms/step - loss: 0.3341 - accuracy: 0.8812\n",
      "313/313 [==============================] - 2s 6ms/step - loss: 0.2593 - accuracy: 0.9117\n"
     ]
    },
    {
     "name": "stderr",
     "output_type": "stream",
     "text": [
      " 50%|██████████████████████████████████████▌                                      | 5/10 [2:13:20<2:14:58, 1619.67s/it]"
     ]
    },
    {
     "name": "stdout",
     "output_type": "stream",
     "text": [
      "313/313 [==============================] - 2s 6ms/step - loss: 0.2674 - accuracy: 0.9041\n",
      "313/313 [==============================] - 1s 5ms/step - loss: 0.3397 - accuracy: 0.8813\n",
      "313/313 [==============================] - 2s 6ms/step - loss: 0.2596 - accuracy: 0.9109\n"
     ]
    },
    {
     "name": "stderr",
     "output_type": "stream",
     "text": [
      " 60%|██████████████████████████████████████████████▏                              | 6/10 [2:38:52<1:46:13, 1593.42s/it]"
     ]
    },
    {
     "name": "stdout",
     "output_type": "stream",
     "text": [
      "313/313 [==============================] - 2s 6ms/step - loss: 0.2674 - accuracy: 0.9049\n",
      "313/313 [==============================] - 1s 5ms/step - loss: 0.3424 - accuracy: 0.8799\n",
      "313/313 [==============================] - 2s 6ms/step - loss: 0.2626 - accuracy: 0.9086\n"
     ]
    },
    {
     "name": "stderr",
     "output_type": "stream",
     "text": [
      " 70%|█████████████████████████████████████████████████████▉                       | 7/10 [3:04:45<1:19:03, 1581.26s/it]"
     ]
    },
    {
     "name": "stdout",
     "output_type": "stream",
     "text": [
      "313/313 [==============================] - 2s 6ms/step - loss: 0.2605 - accuracy: 0.9096\n",
      "313/313 [==============================] - 1s 5ms/step - loss: 0.3265 - accuracy: 0.8841\n",
      "313/313 [==============================] - 2s 6ms/step - loss: 0.2545 - accuracy: 0.9130\n"
     ]
    },
    {
     "name": "stderr",
     "output_type": "stream",
     "text": [
      " 80%|███████████████████████████████████████████████████████████████▏               | 8/10 [3:32:55<53:47, 1613.67s/it]"
     ]
    },
    {
     "name": "stdout",
     "output_type": "stream",
     "text": [
      "313/313 [==============================] - 2s 6ms/step - loss: 0.2671 - accuracy: 0.9068\n",
      "313/313 [==============================] - 1s 5ms/step - loss: 0.3466 - accuracy: 0.8778\n",
      "313/313 [==============================] - 2s 6ms/step - loss: 0.2572 - accuracy: 0.9137\n"
     ]
    },
    {
     "name": "stderr",
     "output_type": "stream",
     "text": [
      " 90%|███████████████████████████████████████████████████████████████████████        | 9/10 [3:59:02<26:39, 1599.83s/it]"
     ]
    },
    {
     "name": "stdout",
     "output_type": "stream",
     "text": [
      "313/313 [==============================] - 2s 6ms/step - loss: 0.2599 - accuracy: 0.9061\n",
      "313/313 [==============================] - 1s 5ms/step - loss: 0.3325 - accuracy: 0.8828\n",
      "313/313 [==============================] - 2s 6ms/step - loss: 0.2520 - accuracy: 0.9105\n"
     ]
    },
    {
     "name": "stderr",
     "output_type": "stream",
     "text": [
      "100%|██████████████████████████████████████████████████████████████████████████████| 10/10 [4:25:15<00:00, 1591.56s/it]\n"
     ]
    }
   ],
   "source": [
    "batch_size = 64\n",
    "epochs = 100\n",
    "import random\n",
    "from tqdm import tqdm\n",
    "from tensorflow.keras.callbacks import EarlyStopping,ReduceLROnPlateau\n",
    "es = EarlyStopping(monitor='val_loss', mode='min', verbose=0, patience=2)\n",
    "reduce_lr = ReduceLROnPlateau(monitor='val_loss', factor=0.5,\n",
    "                              patience=1, min_lr=1e-7, min_delta=0.01, cooldown=2)\n",
    "# SEEDS = list(set([random.randint(0,100) for _ in range(10)]))\n",
    "latent_results = []\n",
    "cl_results = []\n",
    "enc_results = []\n",
    "latent_confs = []\n",
    "cl_confs = []\n",
    "enc_confs = []\n",
    "for seed in tqdm(SEEDS):\n",
    "    np.random.seed(0)\n",
    "    np.random.seed(seed)\n",
    "    random.seed(seed)\n",
    "    tf.random.set_seed(seed)\n",
    "\n",
    "    input_img = keras.Input(shape=(28, 28, 1))\n",
    "    x = layers.Conv2D(16, (3, 3), activation='relu', padding='same')(input_img)\n",
    "    x = layers.MaxPooling2D((2, 2), padding='same')(x)\n",
    "    x = layers.Conv2D(32, (3, 3), activation='relu', padding='same')(x)\n",
    "#     x = layers.MaxPooling2D((2, 2), padding='same')(x)\n",
    "#     x = layers.Conv2D(64, (3, 3), activation='relu', padding='same')(x)\n",
    "    encoded = layers.MaxPooling2D((2, 2), padding='same', name='bottleneck')(x)\n",
    "    # at this point the representation is (4, 4, 8) i.e. 128-dimensional\n",
    "\n",
    "    x = layers.Conv2D(32, (3, 3), activation='relu', padding='same')(encoded)\n",
    "#     x = layers.UpSampling2D((2, 2))(x)\n",
    "#     x = layers.Conv2D(32, (3, 3), activation='relu', padding='same')(x)\n",
    "    x = layers.Conv2DTranspose(32, (3,3), strides=(2,2), padding='same')(x)\n",
    "    x = layers.Conv2D(16, (3, 3), activation='relu', padding='same')(x)\n",
    "    x = layers.Conv2DTranspose(32, (3,3), strides=(2,2), padding='same')(x)\n",
    "    decoded = layers.Conv2D(1, (3, 3), activation='sigmoid', padding='same')(x)\n",
    "\n",
    "    autoencoder = keras.Model(input_img, [decoded,encoded])\n",
    "\n",
    "    cl_out = layers.Flatten()(encoded)\n",
    "    cl_out = layers.Dense(num_classes, activation=\"softmax\")(cl_out)\n",
    "    cl_model = keras.Model(input_img, cl_out)\n",
    "    enc_model = keras.Model(input_img,cl_out)\n",
    "    \n",
    "    \n",
    "    latent_inp = layers.Input(shape=autoencoder.output[1].shape[1:])\n",
    "    latent_x = layers.Flatten()(latent_inp)\n",
    "    latent_out = layers.Dense(num_classes, activation=\"softmax\")(latent_x)\n",
    "    latent_model = keras.Model(latent_inp, latent_out)\n",
    "\n",
    "    autoencoder.compile(optimizer='adam', loss=['binary_crossentropy',None])\n",
    "    cl_model.compile(loss=\"categorical_crossentropy\", optimizer=\"adam\", metrics=[\"accuracy\"])\n",
    "    latent_model.compile(loss=\"categorical_crossentropy\", optimizer=\"adam\", metrics=[\"accuracy\"])\n",
    "    enc_model.compile(loss=\"categorical_crossentropy\", optimizer=\"adam\", metrics=[\"accuracy\"])\n",
    "\n",
    "\n",
    "    autoencoder.fit(x_train, x_train, batch_size=batch_size, epochs=epochs, validation_split=0.1, callbacks=[es,reduce_lr], verbose=0)\n",
    "    latent_x_test = autoencoder.predict(x_test)[1]\n",
    "    latent_x_train = autoencoder.predict(x_train)[1]\n",
    "    \n",
    "    cl_model.fit(x_train, y_train, batch_size=batch_size, epochs=60, validation_split=0.1, callbacks=[es,reduce_lr], verbose=0)\n",
    "    cl_result = cl_model.evaluate(x_test,y_test)\n",
    "    cl_preds = cl_model.predict(x_test)\n",
    "    cl_conf = confusion_matrix(y_test.argmax(axis=1), cl_preds.argmax(axis=1))\n",
    "\n",
    "    latent_model.fit(latent_x_train, y_train, batch_size=batch_size, epochs=60, validation_split=0.1, callbacks=[es,reduce_lr], verbose=0)\n",
    "    latent_result = latent_model.evaluate(latent_x_test,y_test)\n",
    "    latent_preds = latent_model.predict(latent_x_test)\n",
    "    latent_conf = confusion_matrix(y_test.argmax(axis=1), latent_preds.argmax(axis=1))\n",
    "    \n",
    "    \n",
    "    break_flag = False\n",
    "    for i,layer in enumerate(autoencoder.layers):\n",
    "        if(break_flag):\n",
    "            break\n",
    "        if(layer.name=='bottleneck'):\n",
    "            break_flag = True\n",
    "        enc_model.layers[i].set_weights(layer.get_weights())\n",
    "        \n",
    "    enc_model.fit(x_train, y_train, batch_size=batch_size, epochs=60, validation_split=0.1, callbacks=[es,reduce_lr], verbose=0)\n",
    "    enc_result = enc_model.evaluate(x_test,y_test)\n",
    "    enc_preds = enc_model.predict(x_test)\n",
    "    enc_conf = confusion_matrix(y_test.argmax(axis=1), enc_preds.argmax(axis=1))\n",
    "    \n",
    "    \n",
    "    latent_results.append(latent_result)\n",
    "    latent_confs.append(latent_conf)\n",
    "    cl_results.append(cl_result)\n",
    "    cl_confs.append(cl_conf)\n",
    "    enc_results.append(enc_result)\n",
    "    enc_confs.append(enc_conf)"
   ]
  },
  {
   "cell_type": "code",
   "execution_count": 129,
   "id": "63e2f1d5",
   "metadata": {},
   "outputs": [
    {
     "data": {
      "text/plain": [
       "[[0.3366886377334595, 0.8799999952316284],\n",
       " [0.33746105432510376, 0.8794999718666077],\n",
       " [0.3391571342945099, 0.8787999749183655],\n",
       " [0.32993531227111816, 0.8780999779701233],\n",
       " [0.32735583186149597, 0.8851000070571899],\n",
       " [0.3334304094314575, 0.8799999952316284],\n",
       " [0.333842933177948, 0.8808000087738037],\n",
       " [0.34342435002326965, 0.8730000257492065],\n",
       " [0.3559562861919403, 0.871399998664856],\n",
       " [0.34656035900115967, 0.8766999840736389]]"
      ]
     },
     "execution_count": 129,
     "metadata": {},
     "output_type": "execute_result"
    }
   ],
   "source": [
    "latent_results"
   ]
  },
  {
   "cell_type": "code",
   "execution_count": 130,
   "id": "4db4e378",
   "metadata": {},
   "outputs": [
    {
     "data": {
      "text/plain": [
       "[[0.2668095827102661, 0.90420001745224],\n",
       " [0.26464203000068665, 0.9059000015258789],\n",
       " [0.2572406530380249, 0.9072999954223633],\n",
       " [0.26983317732810974, 0.9032999873161316],\n",
       " [0.25844523310661316, 0.9093000292778015],\n",
       " [0.2790881395339966, 0.9021999835968018],\n",
       " [0.2665964365005493, 0.9039000272750854],\n",
       " [0.2896513044834137, 0.8942999839782715],\n",
       " [0.2760055661201477, 0.9020000100135803],\n",
       " [0.2670537233352661, 0.9129999876022339]]"
      ]
     },
     "execution_count": 130,
     "metadata": {},
     "output_type": "execute_result"
    }
   ],
   "source": [
    "cl_results"
   ]
  },
  {
   "cell_type": "code",
   "execution_count": 139,
   "id": "1cdcb835",
   "metadata": {},
   "outputs": [],
   "source": [
    "all_latent_results.append(latent_results)\n",
    "all_latent_confs.append(latent_confs)\n",
    "all_cl_results.append(cl_results)\n",
    "all_cl_confs.append(cl_confs)\n",
    "all_enc_results.append(enc_results)\n",
    "all_enc_confs.append(enc_confs)\n"
   ]
  },
  {
   "cell_type": "code",
   "execution_count": 141,
   "id": "e9bf2348",
   "metadata": {},
   "outputs": [
    {
     "name": "stderr",
     "output_type": "stream",
     "text": [
      "  0%|                                                                                           | 0/10 [00:00<?, ?it/s]"
     ]
    },
    {
     "name": "stdout",
     "output_type": "stream",
     "text": [
      "313/313 [==============================] - 2s 6ms/step - loss: 0.2533 - accuracy: 0.9167\n",
      "313/313 [==============================] - 2s 5ms/step - loss: 0.2596 - accuracy: 0.9083\n",
      "313/313 [==============================] - 2s 6ms/step - loss: 0.2770 - accuracy: 0.9225\n"
     ]
    },
    {
     "name": "stderr",
     "output_type": "stream",
     "text": [
      " 10%|████████▏                                                                         | 1/10 [06:05<54:45, 365.07s/it]"
     ]
    },
    {
     "name": "stdout",
     "output_type": "stream",
     "text": [
      "313/313 [==============================] - 2s 6ms/step - loss: 0.2473 - accuracy: 0.9122\n",
      "313/313 [==============================] - 2s 5ms/step - loss: 0.2784 - accuracy: 0.8973\n",
      "313/313 [==============================] - 2s 6ms/step - loss: 0.2501 - accuracy: 0.9171\n"
     ]
    },
    {
     "name": "stderr",
     "output_type": "stream",
     "text": [
      " 20%|████████████████▍                                                                 | 2/10 [10:34<44:51, 336.41s/it]"
     ]
    },
    {
     "name": "stdout",
     "output_type": "stream",
     "text": [
      "313/313 [==============================] - 2s 6ms/step - loss: 0.2596 - accuracy: 0.9110\n",
      "313/313 [==============================] - 2s 5ms/step - loss: 0.2886 - accuracy: 0.8978\n",
      "313/313 [==============================] - 2s 6ms/step - loss: 0.2640 - accuracy: 0.9191\n"
     ]
    },
    {
     "name": "stderr",
     "output_type": "stream",
     "text": [
      " 30%|████████████████████████▌                                                         | 3/10 [14:36<35:56, 308.13s/it]"
     ]
    },
    {
     "name": "stdout",
     "output_type": "stream",
     "text": [
      "313/313 [==============================] - 2s 6ms/step - loss: 0.2600 - accuracy: 0.9124\n",
      "313/313 [==============================] - 2s 5ms/step - loss: 0.2778 - accuracy: 0.9002\n",
      "313/313 [==============================] - 2s 6ms/step - loss: 0.2638 - accuracy: 0.9179\n"
     ]
    },
    {
     "name": "stderr",
     "output_type": "stream",
     "text": [
      " 40%|████████████████████████████████▊                                                 | 4/10 [19:45<30:50, 308.39s/it]"
     ]
    },
    {
     "name": "stdout",
     "output_type": "stream",
     "text": [
      "313/313 [==============================] - 2s 6ms/step - loss: 0.2505 - accuracy: 0.9155\n",
      "313/313 [==============================] - 2s 6ms/step - loss: 0.2648 - accuracy: 0.9058\n",
      "313/313 [==============================] - 2s 6ms/step - loss: 0.2797 - accuracy: 0.9219\n"
     ]
    },
    {
     "name": "stderr",
     "output_type": "stream",
     "text": [
      " 50%|█████████████████████████████████████████                                         | 5/10 [24:41<25:22, 304.50s/it]"
     ]
    },
    {
     "name": "stdout",
     "output_type": "stream",
     "text": [
      "313/313 [==============================] - 2s 6ms/step - loss: 0.2536 - accuracy: 0.9118\n",
      "313/313 [==============================] - 2s 5ms/step - loss: 0.2980 - accuracy: 0.8866\n",
      "313/313 [==============================] - 2s 6ms/step - loss: 0.2754 - accuracy: 0.9208\n"
     ]
    },
    {
     "name": "stderr",
     "output_type": "stream",
     "text": [
      " 60%|█████████████████████████████████████████████████▏                                | 6/10 [30:11<20:48, 312.15s/it]"
     ]
    },
    {
     "name": "stdout",
     "output_type": "stream",
     "text": [
      "313/313 [==============================] - 2s 6ms/step - loss: 0.2467 - accuracy: 0.9156\n",
      "313/313 [==============================] - 2s 5ms/step - loss: 0.2880 - accuracy: 0.8965\n",
      "313/313 [==============================] - 2s 6ms/step - loss: 0.2724 - accuracy: 0.9175\n"
     ]
    },
    {
     "name": "stderr",
     "output_type": "stream",
     "text": [
      " 70%|█████████████████████████████████████████████████████████▍                        | 7/10 [33:49<14:11, 283.87s/it]"
     ]
    },
    {
     "name": "stdout",
     "output_type": "stream",
     "text": [
      "313/313 [==============================] - 2s 6ms/step - loss: 0.2662 - accuracy: 0.9079\n",
      "313/313 [==============================] - 2s 5ms/step - loss: 0.3205 - accuracy: 0.8865\n",
      "313/313 [==============================] - 2s 6ms/step - loss: 0.2510 - accuracy: 0.9222\n"
     ]
    },
    {
     "name": "stderr",
     "output_type": "stream",
     "text": [
      " 80%|█████████████████████████████████████████████████████████████████▌                | 8/10 [38:48<09:37, 288.61s/it]"
     ]
    },
    {
     "name": "stdout",
     "output_type": "stream",
     "text": [
      "313/313 [==============================] - 2s 6ms/step - loss: 0.2460 - accuracy: 0.9202\n",
      "313/313 [==============================] - 2s 6ms/step - loss: 0.2820 - accuracy: 0.8994\n",
      "313/313 [==============================] - 2s 6ms/step - loss: 0.2626 - accuracy: 0.9217\n"
     ]
    },
    {
     "name": "stderr",
     "output_type": "stream",
     "text": [
      " 90%|█████████████████████████████████████████████████████████████████████████▊        | 9/10 [42:10<04:22, 262.42s/it]"
     ]
    },
    {
     "name": "stdout",
     "output_type": "stream",
     "text": [
      "313/313 [==============================] - 2s 6ms/step - loss: 0.2598 - accuracy: 0.9127\n",
      "313/313 [==============================] - 2s 5ms/step - loss: 0.2894 - accuracy: 0.8982\n",
      "313/313 [==============================] - 2s 6ms/step - loss: 0.2687 - accuracy: 0.9215\n"
     ]
    },
    {
     "name": "stderr",
     "output_type": "stream",
     "text": [
      "100%|█████████████████████████████████████████████████████████████████████████████████| 10/10 [45:57<00:00, 275.79s/it]\n"
     ]
    }
   ],
   "source": [
    "batch_size = 128\n",
    "epochs = 50\n",
    "import random\n",
    "from tqdm import tqdm\n",
    "from tensorflow.keras.callbacks import EarlyStopping,ReduceLROnPlateau\n",
    "es = EarlyStopping(monitor='val_loss', mode='min', verbose=0, patience=2)\n",
    "\n",
    "# SEEDS = list(set([random.randint(0,100) for _ in range(10)]))\n",
    "latent_results = []\n",
    "cl_results = []\n",
    "enc_results = []\n",
    "latent_confs = []\n",
    "cl_confs = []\n",
    "enc_confs = []\n",
    "\n",
    "for seed in tqdm(SEEDS):\n",
    "    np.random.seed(0)\n",
    "    np.random.seed(seed)\n",
    "    random.seed(seed)\n",
    "    tf.random.set_seed(seed)\n",
    "\n",
    "    input_img = keras.Input(shape=(28, 28, 1))\n",
    "    x = layers.Conv2D(32, (5, 5), activation='relu', padding='same')(input_img)\n",
    "    x = layers.MaxPooling2D((2, 2), padding='same')(x)\n",
    "    x = layers.Conv2D(64, (5, 5), activation='relu', padding='same')(x)\n",
    "    x = layers.Conv2D(64, (3, 3), activation='relu', padding='same')(x)\n",
    "#     x = layers.MaxPooling2D((2, 2), padding='same')(x)\n",
    "#     x = layers.Conv2D(128, (3, 3), activation='relu', padding='same')(x)\n",
    "    encoded = layers.MaxPooling2D((2, 2), padding='same', name='bottleneck')(x)\n",
    "\n",
    "\n",
    "    x = layers.Conv2D(64, (3, 3), activation='relu', padding='same')(encoded)\n",
    "#     x = layers.UpSampling2D((2, 2))(x)\n",
    "    x = layers.Conv2D(64, (5, 5), activation='relu', padding='same')(x)\n",
    "    x = layers.UpSampling2D((2, 2))(x)\n",
    "    x = layers.Conv2D(32, (5, 5), activation='relu', padding='same')(x)\n",
    "    x = layers.UpSampling2D((2, 2))(x)\n",
    "    decoded = layers.Conv2D(1, (3, 3), activation='sigmoid', padding='same')(x)\n",
    "\n",
    "    autoencoder = keras.Model(input_img, [decoded,encoded])\n",
    "\n",
    "    cl_out = layers.Conv2D(32, (3, 3), activation='relu', padding='same')(encoded)\n",
    "    cl_out = layers.Flatten()(cl_out)\n",
    "    cl_out = layers.Dense(num_classes, activation=\"softmax\")(cl_out)\n",
    "    cl_model = keras.Model(input_img, cl_out)\n",
    "\n",
    "    latent_inp = layers.Input(shape=autoencoder.output[1].shape[1:])\n",
    "    latent_x = layers.Conv2D(32, (3, 3), activation='relu', padding='same')(latent_inp)\n",
    "    latent_x = layers.Flatten()(latent_x)\n",
    "    latent_out = layers.Dense(num_classes, activation=\"softmax\")(latent_x)\n",
    "    latent_model = keras.Model(latent_inp, latent_out)\n",
    "    \n",
    "    enc_model = keras.Model(input_img,cl_out)\n",
    "    enc_model.compile(loss=\"categorical_crossentropy\", optimizer=\"adam\", metrics=[\"accuracy\"])\n",
    "    \n",
    "\n",
    "    autoencoder.compile(optimizer='adam', loss=['binary_crossentropy',None])\n",
    "    cl_model.compile(loss=\"categorical_crossentropy\", optimizer=\"adam\", metrics=[\"accuracy\"])\n",
    "    latent_model.compile(loss=\"categorical_crossentropy\", optimizer=\"adam\", metrics=[\"accuracy\"])\n",
    "\n",
    "\n",
    "    autoencoder.fit(x_train, x_train, batch_size=batch_size, epochs=epochs, validation_split=0.1, callbacks=[es], verbose=0)\n",
    "    latent_x_test = autoencoder.predict(x_test)[1]\n",
    "    latent_x_train = autoencoder.predict(x_train)[1]\n",
    "    \n",
    "    cl_model.fit(x_train, y_train, batch_size=batch_size, epochs=60, validation_split=0.1, callbacks=[es], verbose=0)\n",
    "    cl_result = cl_model.evaluate(x_test,y_test)\n",
    "    cl_preds = cl_model.predict(x_test)\n",
    "    cl_conf = confusion_matrix(y_test.argmax(axis=1), cl_preds.argmax(axis=1))\n",
    "\n",
    "    latent_model.fit(latent_x_train, y_train, batch_size=batch_size, epochs=60, validation_split=0.1, callbacks=[es], verbose=0)\n",
    "    latent_result = latent_model.evaluate(latent_x_test,y_test)\n",
    "    latent_preds = latent_model.predict(latent_x_test)\n",
    "    latent_conf = confusion_matrix(y_test.argmax(axis=1), latent_preds.argmax(axis=1))\n",
    "    \n",
    "    break_flag = False\n",
    "    for i,layer in enumerate(autoencoder.layers):\n",
    "        if(break_flag):\n",
    "            break\n",
    "        if(layer.name=='bottleneck'):\n",
    "            break_flag = True\n",
    "        enc_model.layers[i].set_weights(layer.get_weights())\n",
    "        \n",
    "    \n",
    "    enc_model.fit(x_train, y_train, batch_size=batch_size, epochs=60, validation_split=0.1, callbacks=[es,reduce_lr], verbose=0)\n",
    "    enc_result = enc_model.evaluate(x_test,y_test)\n",
    "    enc_preds = enc_model.predict(x_test)\n",
    "    enc_conf = confusion_matrix(y_test.argmax(axis=1), enc_preds.argmax(axis=1))\n",
    "    \n",
    "    \n",
    "    latent_results.append(latent_result)\n",
    "    latent_confs.append(latent_conf)\n",
    "    cl_results.append(cl_result)\n",
    "    cl_confs.append(cl_conf)\n",
    "    enc_results.append(enc_result)\n",
    "    enc_confs.append(enc_conf)"
   ]
  },
  {
   "cell_type": "code",
   "execution_count": null,
   "id": "1941d04c",
   "metadata": {},
   "outputs": [],
   "source": []
  },
  {
   "cell_type": "code",
   "execution_count": 142,
   "id": "3a53f4db",
   "metadata": {},
   "outputs": [],
   "source": [
    "all_latent_results.append(latent_results)\n",
    "all_latent_confs.append(latent_confs)\n",
    "all_cl_results.append(cl_results)\n",
    "all_cl_confs.append(cl_confs)\n",
    "all_enc_results.append(enc_results)\n",
    "all_enc_confs.append(enc_confs)\n"
   ]
  },
  {
   "cell_type": "code",
   "execution_count": 46,
   "id": "e6d3bafd",
   "metadata": {},
   "outputs": [
    {
     "data": {
      "text/plain": [
       "[[0.28781184554100037, 0.8974000215530396],\n",
       " [0.30332034826278687, 0.8930000066757202],\n",
       " [0.3283125162124634, 0.8779000043869019],\n",
       " [0.27776020765304565, 0.902899980545044],\n",
       " [0.276668906211853, 0.9017000198364258],\n",
       " [0.2766176462173462, 0.9025999903678894],\n",
       " [0.2759452164173126, 0.9049000144004822],\n",
       " [0.27012383937835693, 0.9046000242233276],\n",
       " [0.26988062262535095, 0.9078999757766724],\n",
       " [0.2595105767250061, 0.910099983215332]]"
      ]
     },
     "execution_count": 46,
     "metadata": {},
     "output_type": "execute_result"
    }
   ],
   "source": [
    "latent_results"
   ]
  },
  {
   "cell_type": "code",
   "execution_count": 47,
   "id": "a8d04822",
   "metadata": {},
   "outputs": [
    {
     "data": {
      "text/plain": [
       "[[0.2595506012439728, 0.9136000275611877],\n",
       " [0.29333731532096863, 0.910099983215332],\n",
       " [0.23983389139175415, 0.9164000153541565],\n",
       " [0.2670044004917145, 0.909600019454956],\n",
       " [0.24210616946220398, 0.9180999994277954],\n",
       " [0.2500377893447876, 0.9146000146865845],\n",
       " [0.26518282294273376, 0.9128999710083008],\n",
       " [0.25269821286201477, 0.9135000109672546],\n",
       " [0.24895432591438293, 0.9140999913215637],\n",
       " [0.25354185700416565, 0.9157999753952026]]"
      ]
     },
     "execution_count": 47,
     "metadata": {},
     "output_type": "execute_result"
    }
   ],
   "source": [
    "cl_results"
   ]
  },
  {
   "cell_type": "code",
   "execution_count": 168,
   "id": "35e522be",
   "metadata": {},
   "outputs": [
    {
     "data": {
      "text/plain": [
       "[[0.2678588926792145, 0.9064000248908997],\n",
       " [0.2782605290412903, 0.8999999761581421],\n",
       " [0.2611929476261139, 0.9093999862670898],\n",
       " [0.26198092103004456, 0.909500002861023],\n",
       " [0.2593088746070862, 0.9117000102996826],\n",
       " [0.2596052587032318, 0.9108999967575073],\n",
       " [0.26256898045539856, 0.9085999727249146],\n",
       " [0.2544918358325958, 0.9129999876022339],\n",
       " [0.2572127878665924, 0.9136999845504761],\n",
       " [0.25201842188835144, 0.9104999899864197],\n",
       " [0.27700749039649963, 0.9225000143051147],\n",
       " [0.25012969970703125, 0.9171000123023987],\n",
       " [0.26402547955513, 0.9190999865531921],\n",
       " [0.2638247013092041, 0.917900025844574],\n",
       " [0.2796509265899658, 0.9218999743461609],\n",
       " [0.27540096640586853, 0.920799970626831],\n",
       " [0.2723618745803833, 0.9175000190734863],\n",
       " [0.2510272264480591, 0.9222000241279602],\n",
       " [0.26256808638572693, 0.9217000007629395],\n",
       " [0.2686785161495209, 0.921500027179718],\n",
       " [0.2537418603897095, 0.9189000129699707],\n",
       " [0.29510143399238586, 0.9117000102996826],\n",
       " [0.2451588660478592, 0.920199990272522],\n",
       " [0.2469893991947174, 0.9186999797821045],\n",
       " [0.24762937426567078, 0.9165999889373779],\n",
       " [0.2431240677833557, 0.925000011920929],\n",
       " [0.24882414937019348, 0.91839998960495],\n",
       " [0.2858532667160034, 0.9165999889373779],\n",
       " [0.24166594445705414, 0.9248999953269958],\n",
       " [0.2609698474407196, 0.9199000000953674]]"
      ]
     },
     "execution_count": 168,
     "metadata": {},
     "output_type": "execute_result"
    }
   ],
   "source": [
    "enc_results"
   ]
  },
  {
   "cell_type": "code",
   "execution_count": 156,
   "id": "d2a89638",
   "metadata": {},
   "outputs": [],
   "source": [
    "from tensorflow.keras.layers import Input, Conv2D, ReLU, BatchNormalization,\\\n",
    "                                    Add, AveragePooling2D, Flatten, Dense, UpSampling2D, Conv2DTranspose\n",
    "from tensorflow.keras.models import Model\n",
    "from tensorflow import Tensor\n",
    "\n",
    "def relu_bn(inputs: Tensor,encoder:bool = False) -> Tensor:\n",
    "    relu = ReLU()(inputs)\n",
    "    bn = None\n",
    "    if(encoder):\n",
    "        bn = BatchNormalization(name='bottleneck')(relu)\n",
    "    else:\n",
    "        bn = BatchNormalization()(relu)\n",
    "    return bn\n",
    "\n",
    "def residual_block(x: Tensor, downsample: bool,upsample:bool, filters: int, kernel_size: int = 3, encoder:bool = False) -> Tensor:\n",
    "    y = Conv2D(kernel_size=kernel_size,\n",
    "               strides= (1 if not downsample else 2),\n",
    "               filters=filters,\n",
    "               padding=\"same\")(x)\n",
    "    y = relu_bn(y)\n",
    "    y = Conv2D(kernel_size=kernel_size,\n",
    "               strides=1,\n",
    "               filters=filters,\n",
    "               padding=\"same\")(y)\n",
    "    if upsample:\n",
    "        y = Conv2DTranspose(filters, (3,3), strides=(2,2), padding='same')(y)\n",
    "        x = Conv2DTranspose(filters, (3,3), strides=(2,2), padding='same')(x)\n",
    "\n",
    "    if downsample:\n",
    "        x = Conv2D(kernel_size=1,\n",
    "                   strides=2,\n",
    "                   filters=filters,\n",
    "                   padding=\"same\")(x)\n",
    "    out = Add()([x, y])\n",
    "    if(encoder):\n",
    "        out = relu_bn(out,True)\n",
    "    else:\n",
    "        out = relu_bn(out)\n",
    "    return out"
   ]
  },
  {
   "cell_type": "code",
   "execution_count": 159,
   "id": "d611056f",
   "metadata": {},
   "outputs": [
    {
     "name": "stderr",
     "output_type": "stream",
     "text": [
      "  0%|                                                                                           | 0/10 [00:00<?, ?it/s]C:\\Users\\Daniel\\AppData\\Roaming\\Python\\Python38\\site-packages\\tensorflow\\python\\data\\ops\\dataset_ops.py:3503: UserWarning: Even though the tf.config.experimental_run_functions_eagerly option is set, this option does not apply to tf.data functions. tf.data functions are still traced and executed as graphs.\n",
      "  warnings.warn(\n"
     ]
    },
    {
     "name": "stdout",
     "output_type": "stream",
     "text": [
      "313/313 [==============================] - 3s 11ms/step - loss: 0.2559 - accuracy: 0.9112\n",
      "313/313 [==============================] - 2s 5ms/step - loss: 0.3117 - accuracy: 0.8856\n",
      "input_310\n",
      "conv2d_1850\n",
      "conv2d_1851\n",
      "re_lu_830\n",
      "batch_normalization_819\n",
      "conv2d_1852\n",
      "add_420\n",
      "re_lu_831\n",
      "batch_normalization_820\n",
      "conv2d_1853\n",
      "re_lu_832\n",
      "batch_normalization_821\n",
      "conv2d_1855\n",
      "conv2d_1854\n",
      "add_421\n",
      "re_lu_833\n",
      "batch_normalization_822\n",
      "conv2d_1856\n",
      "re_lu_834\n",
      "batch_normalization_823\n",
      "conv2d_1858\n",
      "conv2d_1857\n",
      "add_422\n",
      "re_lu_835\n",
      "bottleneck\n",
      "conv2d_1859\n",
      "313/313 [==============================] - 3s 10ms/step - loss: 0.2537 - accuracy: 0.9189\n"
     ]
    },
    {
     "name": "stderr",
     "output_type": "stream",
     "text": [
      " 10%|████████▏                                                                         | 1/10 [05:30<49:32, 330.28s/it]"
     ]
    },
    {
     "name": "stdout",
     "output_type": "stream",
     "text": [
      "313/313 [==============================] - 3s 10ms/step - loss: 0.2852 - accuracy: 0.9053\n",
      "313/313 [==============================] - 2s 5ms/step - loss: 0.3142 - accuracy: 0.8892\n",
      "input_312\n",
      "conv2d_1868\n",
      "conv2d_1869\n",
      "re_lu_842\n",
      "batch_normalization_830\n",
      "conv2d_1870\n",
      "add_426\n",
      "re_lu_843\n",
      "batch_normalization_831\n",
      "conv2d_1871\n",
      "re_lu_844\n",
      "batch_normalization_832\n",
      "conv2d_1873\n",
      "conv2d_1872\n",
      "add_427\n",
      "re_lu_845\n",
      "batch_normalization_833\n",
      "conv2d_1874\n",
      "re_lu_846\n",
      "batch_normalization_834\n",
      "conv2d_1876\n",
      "conv2d_1875\n",
      "add_428\n",
      "re_lu_847\n",
      "bottleneck\n",
      "conv2d_1877\n",
      "313/313 [==============================] - 3s 10ms/step - loss: 0.2951 - accuracy: 0.9117\n"
     ]
    },
    {
     "name": "stderr",
     "output_type": "stream",
     "text": [
      " 20%|████████████████▍                                                                 | 2/10 [10:21<42:29, 318.69s/it]"
     ]
    },
    {
     "name": "stdout",
     "output_type": "stream",
     "text": [
      "313/313 [==============================] - 3s 10ms/step - loss: 0.2799 - accuracy: 0.9035\n",
      "313/313 [==============================] - 2s 5ms/step - loss: 0.3334 - accuracy: 0.8817\n",
      "input_314\n",
      "conv2d_1886\n",
      "conv2d_1887\n",
      "re_lu_854\n",
      "batch_normalization_841\n",
      "conv2d_1888\n",
      "add_432\n",
      "re_lu_855\n",
      "batch_normalization_842\n",
      "conv2d_1889\n",
      "re_lu_856\n",
      "batch_normalization_843\n",
      "conv2d_1891\n",
      "conv2d_1890\n",
      "add_433\n",
      "re_lu_857\n",
      "batch_normalization_844\n",
      "conv2d_1892\n",
      "re_lu_858\n",
      "batch_normalization_845\n",
      "conv2d_1894\n",
      "conv2d_1893\n",
      "add_434\n",
      "re_lu_859\n",
      "bottleneck\n",
      "conv2d_1895\n",
      "313/313 [==============================] - 3s 10ms/step - loss: 0.2452 - accuracy: 0.9202\n"
     ]
    },
    {
     "name": "stderr",
     "output_type": "stream",
     "text": [
      " 30%|████████████████████████▌                                                         | 3/10 [16:34<39:03, 334.85s/it]"
     ]
    },
    {
     "name": "stdout",
     "output_type": "stream",
     "text": [
      "313/313 [==============================] - 3s 10ms/step - loss: 0.2731 - accuracy: 0.9030\n",
      "313/313 [==============================] - 2s 5ms/step - loss: 0.3060 - accuracy: 0.8910\n",
      "input_316\n",
      "conv2d_1904\n",
      "conv2d_1905\n",
      "re_lu_866\n",
      "batch_normalization_852\n",
      "conv2d_1906\n",
      "add_438\n",
      "re_lu_867\n",
      "batch_normalization_853\n",
      "conv2d_1907\n",
      "re_lu_868\n",
      "batch_normalization_854\n",
      "conv2d_1909\n",
      "conv2d_1908\n",
      "add_439\n",
      "re_lu_869\n",
      "batch_normalization_855\n",
      "conv2d_1910\n",
      "re_lu_870\n",
      "batch_normalization_856\n",
      "conv2d_1912\n",
      "conv2d_1911\n",
      "add_440\n",
      "re_lu_871\n",
      "bottleneck\n",
      "conv2d_1913\n",
      "313/313 [==============================] - 3s 10ms/step - loss: 0.2470 - accuracy: 0.9187\n"
     ]
    },
    {
     "name": "stderr",
     "output_type": "stream",
     "text": [
      " 40%|████████████████████████████████▊                                                 | 4/10 [22:38<34:21, 343.62s/it]"
     ]
    },
    {
     "name": "stdout",
     "output_type": "stream",
     "text": [
      "313/313 [==============================] - 3s 10ms/step - loss: 0.2899 - accuracy: 0.8977\n",
      "313/313 [==============================] - 2s 5ms/step - loss: 0.3069 - accuracy: 0.8911\n",
      "input_318\n",
      "conv2d_1922\n",
      "conv2d_1923\n",
      "re_lu_878\n",
      "batch_normalization_863\n",
      "conv2d_1924\n",
      "add_444\n",
      "re_lu_879\n",
      "batch_normalization_864\n",
      "conv2d_1925\n",
      "re_lu_880\n",
      "batch_normalization_865\n",
      "conv2d_1927\n",
      "conv2d_1926\n",
      "add_445\n",
      "re_lu_881\n",
      "batch_normalization_866\n",
      "conv2d_1928\n",
      "re_lu_882\n",
      "batch_normalization_867\n",
      "conv2d_1930\n",
      "conv2d_1929\n",
      "add_446\n",
      "re_lu_883\n",
      "bottleneck\n",
      "conv2d_1931\n",
      "313/313 [==============================] - 3s 10ms/step - loss: 0.2476 - accuracy: 0.9166\n"
     ]
    },
    {
     "name": "stderr",
     "output_type": "stream",
     "text": [
      " 50%|█████████████████████████████████████████                                         | 5/10 [29:28<30:16, 363.37s/it]"
     ]
    },
    {
     "name": "stdout",
     "output_type": "stream",
     "text": [
      "313/313 [==============================] - 3s 10ms/step - loss: 0.2467 - accuracy: 0.9147\n",
      "313/313 [==============================] - 2s 5ms/step - loss: 0.3040 - accuracy: 0.8929\n",
      "input_320\n",
      "conv2d_1940\n",
      "conv2d_1941\n",
      "re_lu_890\n",
      "batch_normalization_874\n",
      "conv2d_1942\n",
      "add_450\n",
      "re_lu_891\n",
      "batch_normalization_875\n",
      "conv2d_1943\n",
      "re_lu_892\n",
      "batch_normalization_876\n",
      "conv2d_1945\n",
      "conv2d_1944\n",
      "add_451\n",
      "re_lu_893\n",
      "batch_normalization_877\n",
      "conv2d_1946\n",
      "re_lu_894\n",
      "batch_normalization_878\n",
      "conv2d_1948\n",
      "conv2d_1947\n",
      "add_452\n",
      "re_lu_895\n",
      "bottleneck\n",
      "conv2d_1949\n",
      "313/313 [==============================] - 3s 10ms/step - loss: 0.2431 - accuracy: 0.9250\n"
     ]
    },
    {
     "name": "stderr",
     "output_type": "stream",
     "text": [
      " 60%|█████████████████████████████████████████████████▏                                | 6/10 [35:33<24:16, 364.14s/it]"
     ]
    },
    {
     "name": "stdout",
     "output_type": "stream",
     "text": [
      "313/313 [==============================] - 3s 10ms/step - loss: 0.2881 - accuracy: 0.9007\n",
      "313/313 [==============================] - 2s 5ms/step - loss: 0.3121 - accuracy: 0.8860\n",
      "input_322\n",
      "conv2d_1958\n",
      "conv2d_1959\n",
      "re_lu_902\n",
      "batch_normalization_885\n",
      "conv2d_1960\n",
      "add_456\n",
      "re_lu_903\n",
      "batch_normalization_886\n",
      "conv2d_1961\n",
      "re_lu_904\n",
      "batch_normalization_887\n",
      "conv2d_1963\n",
      "conv2d_1962\n",
      "add_457\n",
      "re_lu_905\n",
      "batch_normalization_888\n",
      "conv2d_1964\n",
      "re_lu_906\n",
      "batch_normalization_889\n",
      "conv2d_1966\n",
      "conv2d_1965\n",
      "add_458\n",
      "re_lu_907\n",
      "bottleneck\n",
      "conv2d_1967\n",
      "313/313 [==============================] - 3s 10ms/step - loss: 0.2488 - accuracy: 0.9184\n"
     ]
    },
    {
     "name": "stderr",
     "output_type": "stream",
     "text": [
      " 70%|█████████████████████████████████████████████████████████▍                        | 7/10 [42:36<19:05, 381.69s/it]"
     ]
    },
    {
     "name": "stdout",
     "output_type": "stream",
     "text": [
      "313/313 [==============================] - 3s 10ms/step - loss: 0.2645 - accuracy: 0.9097\n",
      "313/313 [==============================] - 2s 5ms/step - loss: 0.3110 - accuracy: 0.8844\n",
      "input_324\n",
      "conv2d_1976\n",
      "conv2d_1977\n",
      "re_lu_914\n",
      "batch_normalization_896\n",
      "conv2d_1978\n",
      "add_462\n",
      "re_lu_915\n",
      "batch_normalization_897\n",
      "conv2d_1979\n",
      "re_lu_916\n",
      "batch_normalization_898\n",
      "conv2d_1981\n",
      "conv2d_1980\n",
      "add_463\n",
      "re_lu_917\n",
      "batch_normalization_899\n",
      "conv2d_1982\n",
      "re_lu_918\n",
      "batch_normalization_900\n",
      "conv2d_1984\n",
      "conv2d_1983\n",
      "add_464\n",
      "re_lu_919\n",
      "bottleneck\n",
      "conv2d_1985\n",
      "313/313 [==============================] - 3s 10ms/step - loss: 0.2859 - accuracy: 0.9166\n"
     ]
    },
    {
     "name": "stderr",
     "output_type": "stream",
     "text": [
      " 80%|█████████████████████████████████████████████████████████████████▌                | 8/10 [54:27<16:00, 480.45s/it]"
     ]
    },
    {
     "name": "stdout",
     "output_type": "stream",
     "text": [
      "313/313 [==============================] - 3s 11ms/step - loss: 0.2676 - accuracy: 0.9051\n",
      "313/313 [==============================] - 2s 5ms/step - loss: 0.3130 - accuracy: 0.8873\n",
      "input_326\n",
      "conv2d_1994\n",
      "conv2d_1995\n",
      "re_lu_926\n",
      "batch_normalization_907\n",
      "conv2d_1996\n",
      "add_468\n",
      "re_lu_927\n",
      "batch_normalization_908\n",
      "conv2d_1997\n",
      "re_lu_928\n",
      "batch_normalization_909\n",
      "conv2d_1999\n",
      "conv2d_1998\n",
      "add_469\n",
      "re_lu_929\n",
      "batch_normalization_910\n",
      "conv2d_2000\n",
      "re_lu_930\n",
      "batch_normalization_911\n",
      "conv2d_2002\n",
      "conv2d_2001\n",
      "add_470\n",
      "re_lu_931\n",
      "bottleneck\n",
      "conv2d_2003\n",
      "313/313 [==============================] - 3s 10ms/step - loss: 0.2417 - accuracy: 0.9249\n"
     ]
    },
    {
     "name": "stderr",
     "output_type": "stream",
     "text": [
      " 90%|████████████████████████████████████████████████████████████████████████        | 9/10 [1:00:52<07:31, 451.68s/it]"
     ]
    },
    {
     "name": "stdout",
     "output_type": "stream",
     "text": [
      "313/313 [==============================] - 3s 10ms/step - loss: 0.2745 - accuracy: 0.9071\n",
      "313/313 [==============================] - 2s 5ms/step - loss: 0.3109 - accuracy: 0.8909\n",
      "input_328\n",
      "conv2d_2012\n",
      "conv2d_2013\n",
      "re_lu_938\n",
      "batch_normalization_918\n",
      "conv2d_2014\n",
      "add_474\n",
      "re_lu_939\n",
      "batch_normalization_919\n",
      "conv2d_2015\n",
      "re_lu_940\n",
      "batch_normalization_920\n",
      "conv2d_2017\n",
      "conv2d_2016\n",
      "add_475\n",
      "re_lu_941\n",
      "batch_normalization_921\n",
      "conv2d_2018\n",
      "re_lu_942\n",
      "batch_normalization_922\n",
      "conv2d_2020\n",
      "conv2d_2019\n",
      "add_476\n",
      "re_lu_943\n",
      "bottleneck\n",
      "conv2d_2021\n",
      "313/313 [==============================] - 3s 10ms/step - loss: 0.2610 - accuracy: 0.9199\n"
     ]
    },
    {
     "name": "stderr",
     "output_type": "stream",
     "text": [
      "100%|███████████████████████████████████████████████████████████████████████████████| 10/10 [1:08:25<00:00, 410.58s/it]\n"
     ]
    }
   ],
   "source": [
    "batch_size = 128\n",
    "epochs = 50\n",
    "import random\n",
    "from tqdm import tqdm\n",
    "from tensorflow.keras.callbacks import EarlyStopping,ReduceLROnPlateau\n",
    "# from blocks_3 import residual_block\n",
    "es = EarlyStopping(monitor='val_loss', mode='min', verbose=0, patience=2)\n",
    "\n",
    "SEEDS = list(set([random.randint(0,100) for _ in range(10)]))\n",
    "latent_results = []\n",
    "cl_results = []\n",
    "enc_results = []\n",
    "latent_confs = []\n",
    "cl_confs = []\n",
    "enc_confs = []\n",
    "for seed in tqdm(SEEDS):\n",
    "    np.random.seed(0)\n",
    "    np.random.seed(seed)\n",
    "    random.seed(seed)\n",
    "    tf.random.set_seed(seed)\n",
    "\n",
    "    input_img = keras.Input(shape=(28, 28, 1))\n",
    "    x = layers.Conv2D(32, (5, 5), activation='relu', padding='same')(input_img)\n",
    "    num_blocks_list = [1, 1, 1]\n",
    "    num_filters = 32\n",
    "    for i in range(len(num_blocks_list)):\n",
    "        num_blocks = num_blocks_list[i]\n",
    "        for j in range(num_blocks):\n",
    "            if(i==len(num_blocks_list)-1 and j==num_blocks-1):\n",
    "                x = residual_block(x, downsample=(j==0 and i!=0),upsample=False, filters=num_filters, encoder=True)\n",
    "            else:\n",
    "                x = residual_block(x, downsample=(j==0 and i!=0),upsample=False, filters=num_filters)\n",
    "        num_filters = int(num_filters/2)\n",
    "    encoded = x\n",
    "    num_filters = int(num_filters*2)\n",
    "    for i in range(len(num_blocks_list)):\n",
    "        num_blocks = num_blocks_list[i]\n",
    "        for j in range(num_blocks):\n",
    "            x = residual_block(x, downsample=False, upsample=(j==0 and i!=0), filters=num_filters)\n",
    "        num_filters = int(num_filters*2)\n",
    "\n",
    "    decoded = layers.Conv2D(1, (3, 3), activation='sigmoid', padding='same')(x)\n",
    "\n",
    "    autoencoder = keras.Model(input_img, [decoded,encoded])\n",
    "\n",
    "    cl_out = layers.Conv2D(32, (3, 3), activation='relu', padding='same')(encoded)\n",
    "    cl_out = layers.Flatten()(cl_out)\n",
    "    cl_out = layers.Dense(num_classes, activation=\"softmax\")(cl_out)\n",
    "    cl_model = keras.Model(input_img, cl_out)\n",
    "    \n",
    "    enc_model = keras.Model(input_img,cl_out)\n",
    "    enc_model.compile(loss=\"categorical_crossentropy\", optimizer=\"adam\", metrics=[\"accuracy\"])\n",
    "    \n",
    "\n",
    "    latent_inp = layers.Input(shape=autoencoder.output[1].shape[1:])\n",
    "    latent_x = layers.Conv2D(32, (3, 3), activation='relu', padding='same')(latent_inp)\n",
    "    latent_x = layers.Flatten()(latent_x)\n",
    "    latent_out = layers.Dense(num_classes, activation=\"softmax\")(latent_x)\n",
    "    latent_model = keras.Model(latent_inp, latent_out)\n",
    "\n",
    "    autoencoder.compile(optimizer='adam', loss=['binary_crossentropy',None])\n",
    "    cl_model.compile(loss=\"categorical_crossentropy\", optimizer=\"adam\", metrics=[\"accuracy\"])\n",
    "    latent_model.compile(loss=\"categorical_crossentropy\", optimizer=\"adam\", metrics=[\"accuracy\"])\n",
    "    \n",
    "#     print(autoencoder.summary())\n",
    "\n",
    "\n",
    "    autoencoder.fit(x_train, x_train, batch_size=batch_size, epochs=epochs, validation_split=0.1, callbacks=[es], verbose=0)\n",
    "    latent_x_test = autoencoder.predict(x_test)[1]\n",
    "    latent_x_train = autoencoder.predict(x_train)[1]\n",
    "    \n",
    "    cl_model.fit(x_train, y_train, batch_size=batch_size, epochs=60, validation_split=0.1, callbacks=[es], verbose=0)\n",
    "    cl_result = cl_model.evaluate(x_test,y_test)\n",
    "    cl_preds = cl_model.predict(x_test)\n",
    "    cl_conf = confusion_matrix(y_test.argmax(axis=1), cl_preds.argmax(axis=1))\n",
    "\n",
    "    latent_model.fit(latent_x_train, y_train, batch_size=batch_size, epochs=60, validation_split=0.1, callbacks=[es], verbose=0)\n",
    "    latent_result = latent_model.evaluate(latent_x_test,y_test)\n",
    "    latent_preds = latent_model.predict(latent_x_test)\n",
    "    latent_conf = confusion_matrix(y_test.argmax(axis=1), latent_preds.argmax(axis=1))\n",
    "    \n",
    "    break_flag = False\n",
    "    for i,layer in enumerate(autoencoder.layers):\n",
    "        print(layer.name)\n",
    "        if(break_flag):\n",
    "            break\n",
    "        if(layer.name=='bottleneck'):\n",
    "            break_flag = True\n",
    "        enc_model.layers[i].set_weights(layer.get_weights())\n",
    "        \n",
    "    \n",
    "    enc_model.fit(x_train, y_train, batch_size=batch_size, epochs=60, validation_split=0.1, callbacks=[es,reduce_lr], verbose=0)\n",
    "    enc_result = enc_model.evaluate(x_test,y_test)\n",
    "    enc_preds = enc_model.predict(x_test)\n",
    "    enc_conf = confusion_matrix(y_test.argmax(axis=1), enc_preds.argmax(axis=1))\n",
    "    \n",
    "    \n",
    "    latent_results.append(latent_result)\n",
    "    latent_confs.append(latent_conf)\n",
    "    cl_results.append(cl_result)\n",
    "    cl_confs.append(cl_conf)\n",
    "    enc_results.append(enc_result)\n",
    "    enc_confs.append(enc_conf)\n",
    "    "
   ]
  },
  {
   "cell_type": "code",
   "execution_count": 167,
   "id": "2b0e7610",
   "metadata": {},
   "outputs": [
    {
     "data": {
      "text/plain": [
       "[[[0.2739515006542206, 0.9035000205039978],\n",
       "  [0.27225327491760254, 0.9035999774932861],\n",
       "  [0.2766450047492981, 0.9006999731063843],\n",
       "  [0.27050071954727173, 0.9034000039100647],\n",
       "  [0.2632339894771576, 0.9068999886512756],\n",
       "  [0.2673584818840027, 0.9041000008583069],\n",
       "  [0.26736289262771606, 0.9049000144004822],\n",
       "  [0.2604537010192871, 0.909600019454956],\n",
       "  [0.2670741081237793, 0.9067999720573425],\n",
       "  [0.25989463925361633, 0.9060999751091003]],\n",
       " [[0.2533012926578522, 0.916700005531311],\n",
       "  [0.2473243623971939, 0.9121999740600586],\n",
       "  [0.2595638632774353, 0.9110000133514404],\n",
       "  [0.25996965169906616, 0.9124000072479248],\n",
       "  [0.2504638433456421, 0.9154999852180481],\n",
       "  [0.2535710334777832, 0.9118000268936157],\n",
       "  [0.246689572930336, 0.9156000018119812],\n",
       "  [0.2662191092967987, 0.9078999757766724],\n",
       "  [0.24600781500339508, 0.920199990272522],\n",
       "  [0.2597798705101013, 0.9126999974250793]],\n",
       " [[0.25589874386787415, 0.9111999869346619],\n",
       "  [0.28519779443740845, 0.9053000211715698],\n",
       "  [0.27989596128463745, 0.9035000205039978],\n",
       "  [0.27307257056236267, 0.902999997138977],\n",
       "  [0.28990355134010315, 0.8977000117301941],\n",
       "  [0.24665763974189758, 0.9146999716758728],\n",
       "  [0.2881179749965668, 0.9006999731063843],\n",
       "  [0.26451393961906433, 0.9096999764442444],\n",
       "  [0.26764652132987976, 0.9050999879837036],\n",
       "  [0.27449339628219604, 0.9071000218391418]]]"
      ]
     },
     "execution_count": 167,
     "metadata": {},
     "output_type": "execute_result"
    }
   ],
   "source": [
    "all_cl_results"
   ]
  },
  {
   "cell_type": "code",
   "execution_count": 172,
   "id": "755e858a",
   "metadata": {},
   "outputs": [
    {
     "data": {
      "text/plain": [
       "[[[0.2678588926792145, 0.9064000248908997],\n",
       "  [0.2782605290412903, 0.8999999761581421],\n",
       "  [0.2611929476261139, 0.9093999862670898],\n",
       "  [0.26198092103004456, 0.909500002861023],\n",
       "  [0.2593088746070862, 0.9117000102996826],\n",
       "  [0.2596052587032318, 0.9108999967575073],\n",
       "  [0.26256898045539856, 0.9085999727249146],\n",
       "  [0.2544918358325958, 0.9129999876022339],\n",
       "  [0.2572127878665924, 0.9136999845504761],\n",
       "  [0.25201842188835144, 0.9104999899864197],\n",
       "  [0.27700749039649963, 0.9225000143051147],\n",
       "  [0.25012969970703125, 0.9171000123023987],\n",
       "  [0.26402547955513, 0.9190999865531921],\n",
       "  [0.2638247013092041, 0.917900025844574],\n",
       "  [0.2796509265899658, 0.9218999743461609],\n",
       "  [0.27540096640586853, 0.920799970626831],\n",
       "  [0.2723618745803833, 0.9175000190734863],\n",
       "  [0.2510272264480591, 0.9222000241279602],\n",
       "  [0.26256808638572693, 0.9217000007629395],\n",
       "  [0.2686785161495209, 0.921500027179718],\n",
       "  [0.2537418603897095, 0.9189000129699707],\n",
       "  [0.29510143399238586, 0.9117000102996826],\n",
       "  [0.2451588660478592, 0.920199990272522],\n",
       "  [0.2469893991947174, 0.9186999797821045],\n",
       "  [0.24762937426567078, 0.9165999889373779],\n",
       "  [0.2431240677833557, 0.925000011920929],\n",
       "  [0.24882414937019348, 0.91839998960495],\n",
       "  [0.2858532667160034, 0.9165999889373779],\n",
       "  [0.24166594445705414, 0.9248999953269958],\n",
       "  [0.2609698474407196, 0.9199000000953674]],\n",
       " [[0.2678588926792145, 0.9064000248908997],\n",
       "  [0.2782605290412903, 0.8999999761581421],\n",
       "  [0.2611929476261139, 0.9093999862670898],\n",
       "  [0.26198092103004456, 0.909500002861023],\n",
       "  [0.2593088746070862, 0.9117000102996826],\n",
       "  [0.2596052587032318, 0.9108999967575073],\n",
       "  [0.26256898045539856, 0.9085999727249146],\n",
       "  [0.2544918358325958, 0.9129999876022339],\n",
       "  [0.2572127878665924, 0.9136999845504761],\n",
       "  [0.25201842188835144, 0.9104999899864197],\n",
       "  [0.27700749039649963, 0.9225000143051147],\n",
       "  [0.25012969970703125, 0.9171000123023987],\n",
       "  [0.26402547955513, 0.9190999865531921],\n",
       "  [0.2638247013092041, 0.917900025844574],\n",
       "  [0.2796509265899658, 0.9218999743461609],\n",
       "  [0.27540096640586853, 0.920799970626831],\n",
       "  [0.2723618745803833, 0.9175000190734863],\n",
       "  [0.2510272264480591, 0.9222000241279602],\n",
       "  [0.26256808638572693, 0.9217000007629395],\n",
       "  [0.2686785161495209, 0.921500027179718],\n",
       "  [0.2537418603897095, 0.9189000129699707],\n",
       "  [0.29510143399238586, 0.9117000102996826],\n",
       "  [0.2451588660478592, 0.920199990272522],\n",
       "  [0.2469893991947174, 0.9186999797821045],\n",
       "  [0.24762937426567078, 0.9165999889373779],\n",
       "  [0.2431240677833557, 0.925000011920929],\n",
       "  [0.24882414937019348, 0.91839998960495],\n",
       "  [0.2858532667160034, 0.9165999889373779],\n",
       "  [0.24166594445705414, 0.9248999953269958],\n",
       "  [0.2609698474407196, 0.9199000000953674]],\n",
       " [[0.2678588926792145, 0.9064000248908997],\n",
       "  [0.2782605290412903, 0.8999999761581421],\n",
       "  [0.2611929476261139, 0.9093999862670898],\n",
       "  [0.26198092103004456, 0.909500002861023],\n",
       "  [0.2593088746070862, 0.9117000102996826],\n",
       "  [0.2596052587032318, 0.9108999967575073],\n",
       "  [0.26256898045539856, 0.9085999727249146],\n",
       "  [0.2544918358325958, 0.9129999876022339],\n",
       "  [0.2572127878665924, 0.9136999845504761],\n",
       "  [0.25201842188835144, 0.9104999899864197],\n",
       "  [0.27700749039649963, 0.9225000143051147],\n",
       "  [0.25012969970703125, 0.9171000123023987],\n",
       "  [0.26402547955513, 0.9190999865531921],\n",
       "  [0.2638247013092041, 0.917900025844574],\n",
       "  [0.2796509265899658, 0.9218999743461609],\n",
       "  [0.27540096640586853, 0.920799970626831],\n",
       "  [0.2723618745803833, 0.9175000190734863],\n",
       "  [0.2510272264480591, 0.9222000241279602],\n",
       "  [0.26256808638572693, 0.9217000007629395],\n",
       "  [0.2686785161495209, 0.921500027179718],\n",
       "  [0.2537418603897095, 0.9189000129699707],\n",
       "  [0.29510143399238586, 0.9117000102996826],\n",
       "  [0.2451588660478592, 0.920199990272522],\n",
       "  [0.2469893991947174, 0.9186999797821045],\n",
       "  [0.24762937426567078, 0.9165999889373779],\n",
       "  [0.2431240677833557, 0.925000011920929],\n",
       "  [0.24882414937019348, 0.91839998960495],\n",
       "  [0.2858532667160034, 0.9165999889373779],\n",
       "  [0.24166594445705414, 0.9248999953269958],\n",
       "  [0.2609698474407196, 0.9199000000953674]]]"
      ]
     },
     "execution_count": 172,
     "metadata": {},
     "output_type": "execute_result"
    }
   ],
   "source": [
    "all_enc_results"
   ]
  },
  {
   "cell_type": "code",
   "execution_count": 184,
   "id": "5ec07b96",
   "metadata": {},
   "outputs": [],
   "source": [
    "all_enc_results_corrected = [r[0+i*10:((i+1)*10)] for i,r in enumerate(all_enc_results)]"
   ]
  },
  {
   "cell_type": "code",
   "execution_count": null,
   "id": "f2474e97",
   "metadata": {},
   "outputs": [],
   "source": []
  },
  {
   "cell_type": "code",
   "execution_count": 160,
   "id": "0d63877d",
   "metadata": {},
   "outputs": [],
   "source": [
    "all_latent_results.append(latent_results)\n",
    "all_latent_confs.append(latent_confs)\n",
    "all_cl_results.append(cl_results)\n",
    "all_cl_confs.append(cl_confs)\n",
    "all_enc_results.append(enc_results)\n",
    "all_enc_confs.append(enc_confs)\n"
   ]
  },
  {
   "cell_type": "code",
   "execution_count": 161,
   "id": "0b593f30",
   "metadata": {},
   "outputs": [],
   "source": [
    "fr_backup = full_results.copy()"
   ]
  },
  {
   "cell_type": "code",
   "execution_count": 162,
   "id": "c036c3f6",
   "metadata": {},
   "outputs": [],
   "source": [
    "full_results = dict()\n",
    "full_results['labent-res'] = all_latent_results\n",
    "full_results['latent-conf'] = all_latent_confs\n",
    "full_results['cl-res'] = all_cl_results\n",
    "full_results['cl-conf'] = all_cl_confs\n",
    "full_results['enc-res'] = all_enc_results\n",
    "full_results['enc-conf'] = all_enc_confs"
   ]
  },
  {
   "cell_type": "code",
   "execution_count": 163,
   "id": "890bd7a8",
   "metadata": {},
   "outputs": [],
   "source": [
    "import pickle"
   ]
  },
  {
   "cell_type": "code",
   "execution_count": 164,
   "id": "03bba9a9",
   "metadata": {},
   "outputs": [],
   "source": [
    "import pickle\n",
    "with open('full-res-all2.pkl', 'wb') as f:\n",
    "    pickle.dump(full_results, f)"
   ]
  },
  {
   "cell_type": "code",
   "execution_count": 96,
   "id": "bb1bd0ca",
   "metadata": {},
   "outputs": [],
   "source": [
    "fr = None\n",
    "with open('full-res.pkl', 'rb') as f:\n",
    "    fr = pickle.load(f)"
   ]
  },
  {
   "cell_type": "code",
   "execution_count": 185,
   "id": "053ad84c",
   "metadata": {},
   "outputs": [],
   "source": [
    "alr = all_latent_results.copy()\n",
    "acr = all_cl_results.copy()\n",
    "aer = all_enc_results_corrected.copy()\n",
    "import functools\n",
    "import operator\n",
    "alr = functools.reduce(operator.iconcat, alr, [])\n",
    "acr = functools.reduce(operator.iconcat, acr, [])\n",
    "aer = functools.reduce(operator.iconcat, aer, [])\n",
    "alr_acc = [acc for l,acc in alr]\n",
    "acr_acc = [acc for l,acc in acr]\n",
    "aer_acc = [acc for l,acc in aer]"
   ]
  },
  {
   "cell_type": "code",
   "execution_count": 187,
   "id": "115c4c12",
   "metadata": {},
   "outputs": [],
   "source": [
    "import pandas as pd\n",
    "results_accs= pd.DataFrame(data = zip(acr_acc,alr_acc,aer_acc), columns = ['Control', 'Experimental1','Experimental2'])"
   ]
  },
  {
   "cell_type": "code",
   "execution_count": 188,
   "id": "b6dfbdc6",
   "metadata": {},
   "outputs": [
    {
     "data": {
      "text/plain": [
       "<AxesSubplot:>"
      ]
     },
     "execution_count": 188,
     "metadata": {},
     "output_type": "execute_result"
    },
    {
     "data": {
      "image/png": "[encoded data removed]",
      "text/plain": [
       "<Figure size 432x288 with 1 Axes>"
      ]
     },
     "metadata": {
      "needs_background": "light"
     },
     "output_type": "display_data"
    }
   ],
   "source": [
    "results_accs.boxplot(showfliers=False)"
   ]
  },
  {
   "cell_type": "code",
   "execution_count": 219,
   "id": "1f5150a7",
   "metadata": {},
   "outputs": [
    {
     "name": "stdout",
     "output_type": "stream",
     "text": [
      "0.7917389657211209 0.6730945405786548\n",
      "Control data is normal\n",
      "3.1722900130000165 0.20471326085762026\n",
      "Experimental1 data is normal\n",
      "3.1722900130000165 0.20471326085762026\n",
      "Experimental2 data is normal\n"
     ]
    }
   ],
   "source": [
    "from scipy import stats\n",
    "alpha = 0.05;\n",
    "\n",
    "s, p = stats.normaltest(acr_acc)\n",
    "print(s,p)\n",
    "if p < alpha:\n",
    "    print('Control data is not normal')\n",
    "else:\n",
    "    print('Control data is normal')\n",
    "\n",
    "s, p = stats.normaltest(alr_acc)\n",
    "print(s,p)\n",
    "if p < alpha:\n",
    "    print('Experimental1 data is not normal')\n",
    "else:\n",
    "    print('Experimental1 data is normal')\n",
    "    \n",
    "    \n",
    "s, p = stats.normaltest(alr_acc)\n",
    "print(s,p)\n",
    "if p < alpha:\n",
    "    print('Experimental2 data is not normal')\n",
    "else:\n",
    "    print('Experimental2 data is normal')"
   ]
  },
  {
   "cell_type": "code",
   "execution_count": 190,
   "id": "e092c3b3",
   "metadata": {},
   "outputs": [
    {
     "data": {
      "text/plain": [
       "Ttest_indResult(statistic=10.702711329379646, pvalue=2.359085404154885e-15)"
      ]
     },
     "execution_count": 190,
     "metadata": {},
     "output_type": "execute_result"
    }
   ],
   "source": [
    "stats.ttest_ind(acr_acc, alr_acc, axis=0, equal_var=True, nan_policy='propagate')"
   ]
  },
  {
   "cell_type": "code",
   "execution_count": 191,
   "id": "cb23f180",
   "metadata": {},
   "outputs": [
    {
     "data": {
      "text/plain": [
       "Ttest_indResult(statistic=-5.521434286249591, pvalue=8.258608129799461e-07)"
      ]
     },
     "execution_count": 191,
     "metadata": {},
     "output_type": "execute_result"
    }
   ],
   "source": [
    "stats.ttest_ind(acr_acc, aer_acc, axis=0, equal_var=True, nan_policy='propagate')"
   ]
  },
  {
   "cell_type": "code",
   "execution_count": null,
   "id": "3f2cc233",
   "metadata": {},
   "outputs": [],
   "source": []
  },
  {
   "cell_type": "code",
   "execution_count": 217,
   "id": "71b1f6a8",
   "metadata": {},
   "outputs": [
    {
     "data": {
      "text/plain": [
       "(0.5261765843581757, 0.0028204881982267466)"
      ]
     },
     "execution_count": 217,
     "metadata": {},
     "output_type": "execute_result"
    }
   ],
   "source": [
    "pearson_coef, p_value = stats.pearsonr(acr_acc, aer_acc) #define the columns to perform calculations on\n",
    "\n",
    "pearson_coef, p_value"
   ]
  },
  {
   "cell_type": "code",
   "execution_count": 218,
   "id": "d529ce37",
   "metadata": {},
   "outputs": [
    {
     "data": {
      "text/plain": [
       "(0.7008460551015137, 1.6097221826014343e-05)"
      ]
     },
     "execution_count": 218,
     "metadata": {},
     "output_type": "execute_result"
    }
   ],
   "source": [
    "pearson_coef, p_value = stats.pearsonr(acr_acc, alr_acc) #define the columns to perform calculations on\n",
    "\n",
    "pearson_coef, p_value"
   ]
  },
  {
   "cell_type": "code",
   "execution_count": 214,
   "id": "e57f662b",
   "metadata": {},
   "outputs": [
    {
     "data": {
      "text/plain": [
       "-0.7426106572325056"
      ]
     },
     "execution_count": 214,
     "metadata": {},
     "output_type": "execute_result"
    }
   ],
   "source": [
    "pearson_coef"
   ]
  },
  {
   "cell_type": "code",
   "execution_count": 108,
   "id": "418cdb0d",
   "metadata": {},
   "outputs": [
    {
     "data": {
      "text/plain": [
       "0.001527218841404332"
      ]
     },
     "execution_count": 108,
     "metadata": {},
     "output_type": "execute_result"
    }
   ],
   "source": [
    "p_value"
   ]
  },
  {
   "cell_type": "code",
   "execution_count": 97,
   "id": "1187bf26",
   "metadata": {},
   "outputs": [
    {
     "data": {
      "text/plain": [
       "{'labent-res': [[[0.33800819516181946, 0.8794000148773193],\n",
       "   [0.32165902853012085, 0.8853999972343445],\n",
       "   [0.3323689103126526, 0.8809999823570251],\n",
       "   [0.33443623781204224, 0.8823000192642212],\n",
       "   [0.3438498377799988, 0.8730999827384949],\n",
       "   [0.32030001282691956, 0.882099986076355],\n",
       "   [0.32871881127357483, 0.8831999897956848],\n",
       "   [0.33040332794189453, 0.8831999897956848],\n",
       "   [0.3297611474990845, 0.882099986076355],\n",
       "   [0.35399872064590454, 0.8759999871253967]],\n",
       "  [[0.28781184554100037, 0.8974000215530396],\n",
       "   [0.30332034826278687, 0.8930000066757202],\n",
       "   [0.3283125162124634, 0.8779000043869019],\n",
       "   [0.27776020765304565, 0.902899980545044],\n",
       "   [0.276668906211853, 0.9017000198364258],\n",
       "   [0.2766176462173462, 0.9025999903678894],\n",
       "   [0.2759452164173126, 0.9049000144004822],\n",
       "   [0.27012383937835693, 0.9046000242233276],\n",
       "   [0.26988062262535095, 0.9078999757766724],\n",
       "   [0.2595105767250061, 0.910099983215332]],\n",
       "  [[0.2958972454071045, 0.8945000171661377],\n",
       "   [0.32086509466171265, 0.8848000168800354],\n",
       "   [0.309162437915802, 0.8877999782562256],\n",
       "   [0.2955489158630371, 0.8966000080108643],\n",
       "   [0.3030024766921997, 0.8928999900817871],\n",
       "   [0.3058323860168457, 0.8938000202178955],\n",
       "   [0.29899707436561584, 0.892799973487854],\n",
       "   [0.3340103030204773, 0.876800000667572],\n",
       "   [0.29866695404052734, 0.8944000005722046],\n",
       "   [0.3176853060722351, 0.8881999850273132]]],\n",
       " 'latent-conf': [[array([[893,   2,  19,  17,   3,   1,  54,   0,  11,   0],\n",
       "          [  3, 971,   2,  17,   4,   0,   1,   0,   2,   0],\n",
       "          [ 16,   3, 854,   4,  79,   0,  37,   0,   7,   0],\n",
       "          [ 36,   6,  28, 856,  39,   0,  26,   0,   9,   0],\n",
       "          [  1,   2, 126,  22, 800,   0,  47,   0,   2,   0],\n",
       "          [  0,   0,   0,   1,   0, 947,   0,  36,   3,  13],\n",
       "          [175,   2, 122,  19, 101,   0, 560,   0,  21,   0],\n",
       "          [  0,   0,   0,   0,   0,  10,   0, 971,   0,  19],\n",
       "          [  3,   2,   1,   1,   3,   1,   3,   5, 981,   0],\n",
       "          [  0,   0,   0,   0,   0,   4,   0,  34,   1, 961]], dtype=int64),\n",
       "   array([[871,   1,  24,  25,   3,   1,  63,   0,  12,   0],\n",
       "          [  1, 973,   2,  14,   4,   0,   5,   0,   1,   0],\n",
       "          [ 14,   1, 894,   7,  49,   0,  32,   0,   3,   0],\n",
       "          [ 23,   6,  18, 879,  28,   0,  38,   0,   8,   0],\n",
       "          [  1,   2, 156,  28, 743,   0,  66,   0,   4,   0],\n",
       "          [  0,   0,   0,   1,   0, 972,   0,  18,   1,   8],\n",
       "          [150,   2, 119,  20,  70,   0, 618,   0,  21,   0],\n",
       "          [  0,   0,   0,   0,   0,  11,   0, 950,   0,  39],\n",
       "          [  1,   1,   4,   2,   2,   1,   1,   5, 983,   0],\n",
       "          [  0,   0,   0,   0,   0,   4,   0,  24,   1, 971]], dtype=int64),\n",
       "   array([[813,   0,   5,  18,   2,   1, 155,   0,   6,   0],\n",
       "          [  2, 971,   1,  16,   4,   0,   5,   0,   1,   0],\n",
       "          [ 12,   0, 741,   8, 111,   0, 128,   0,   0,   0],\n",
       "          [ 20,   3,   6, 877,  36,   0,  56,   0,   2,   0],\n",
       "          [  0,   1,  45,  27, 824,   0, 103,   0,   0,   0],\n",
       "          [  0,   0,   0,   0,   0, 971,   1,  24,   1,   3],\n",
       "          [113,   1,  61,  23,  69,   0, 727,   0,   6,   0],\n",
       "          [  0,   0,   0,   0,   0,  11,   0, 982,   0,   7],\n",
       "          [  1,   1,   2,   2,   3,   1,  14,   5, 971,   0],\n",
       "          [  1,   0,   0,   0,   0,   5,   0,  60,   1, 933]], dtype=int64),\n",
       "   array([[922,   1,  10,  16,   2,   1,  40,   0,   8,   0],\n",
       "          [  3, 974,   3,  12,   4,   0,   3,   0,   1,   0],\n",
       "          [ 27,   3, 819,   6,  94,   0,  48,   0,   3,   0],\n",
       "          [ 53,  11,   8, 865,  27,   0,  32,   0,   4,   0],\n",
       "          [  2,   2,  90,  26, 813,   0,  67,   0,   0,   0],\n",
       "          [  0,   0,   0,   1,   0, 952,   0,  37,   1,   9],\n",
       "          [229,   2,  88,  17,  82,   0, 569,   0,  13,   0],\n",
       "          [  0,   0,   0,   0,   0,   5,   0, 976,   0,  19],\n",
       "          [  7,   1,   2,   2,   4,   1,   2,   6, 975,   0],\n",
       "          [  1,   0,   0,   0,   0,   4,   0,  37,   0, 958]], dtype=int64),\n",
       "   array([[731,   1,  20,  24,   4,   1, 207,   0,  12,   0],\n",
       "          [  0, 964,   3,  21,   5,   0,   6,   0,   1,   0],\n",
       "          [  9,   0, 806,   5,  95,   0,  80,   0,   5,   0],\n",
       "          [  9,   4,  10, 876,  42,   0,  56,   0,   3,   0],\n",
       "          [  0,   1, 106,  16, 788,   0,  88,   0,   1,   0],\n",
       "          [  0,   0,   0,   1,   0, 973,   0,  19,   1,   6],\n",
       "          [ 85,   1,  97,  22,  74,   0, 701,   0,  20,   0],\n",
       "          [  0,   0,   0,   0,   0,  23,   0, 956,   0,  21],\n",
       "          [  1,   2,   1,   3,   2,   3,   7,   6, 975,   0],\n",
       "          [  0,   0,   0,   0,   0,   5,   0,  32,   2, 961]], dtype=int64),\n",
       "   array([[794,   0,  23,  26,   2,   2, 147,   0,   6,   0],\n",
       "          [  2, 970,   1,  15,   3,   0,   8,   0,   1,   0],\n",
       "          [ 10,   0, 842,   7,  49,   0,  90,   0,   2,   0],\n",
       "          [ 13,   3,  25, 876,  28,   0,  52,   0,   3,   0],\n",
       "          [  0,   1, 123,  28, 732,   0, 116,   0,   0,   0],\n",
       "          [  0,   0,   0,   0,   0, 965,   1,  27,   1,   6],\n",
       "          [105,   0,  80,  22,  50,   0, 736,   0,   7,   0],\n",
       "          [  0,   0,   0,   0,   0,   5,   0, 983,   0,  12],\n",
       "          [  1,   1,   3,   2,   2,   3,  11,   4, 973,   0],\n",
       "          [  0,   0,   0,   0,   0,   7,   1,  42,   0, 950]], dtype=int64),\n",
       "   array([[864,   0,  15,  39,   3,   1,  66,   0,  12,   0],\n",
       "          [  1, 969,   1,  22,   3,   0,   2,   0,   2,   0],\n",
       "          [ 16,   3, 836,  11,  73,   0,  53,   0,   8,   0],\n",
       "          [ 17,   4,   8, 924,  16,   0,  25,   0,   6,   0],\n",
       "          [  0,   1, 113,  48, 767,   0,  67,   0,   4,   0],\n",
       "          [  0,   0,   0,   1,   0, 936,   0,  53,   1,   9],\n",
       "          [142,   1, 102,  36,  80,   0, 621,   0,  18,   0],\n",
       "          [  0,   0,   0,   0,   0,   1,   0, 984,   1,  14],\n",
       "          [  1,   1,   1,   3,   1,   1,   3,   7, 982,   0],\n",
       "          [  0,   0,   0,   0,   0,   4,   0,  45,   2, 949]], dtype=int64),\n",
       "   array([[840,   1,  28,  29,   4,   1,  88,   0,   9,   0],\n",
       "          [  0, 980,   1,  12,   4,   0,   2,   0,   1,   0],\n",
       "          [  8,   2, 889,   5,  65,   0,  30,   0,   1,   0],\n",
       "          [ 18,   9,  21, 878,  35,   0,  35,   0,   4,   0],\n",
       "          [  1,   2, 140,  25, 787,   0,  45,   0,   0,   0],\n",
       "          [  0,   0,   0,   1,   0, 958,   0,  31,   1,   9],\n",
       "          [120,   2, 143,  26, 102,   0, 596,   0,  11,   0],\n",
       "          [  0,   0,   0,   0,   0,   8,   0, 970,   0,  22],\n",
       "          [  2,   1,   4,   3,   3,   1,   4,   6, 976,   0],\n",
       "          [  0,   0,   0,   0,   0,   4,   0,  37,   1, 958]], dtype=int64),\n",
       "   array([[901,   1,  14,  12,   6,   2,  52,   0,  12,   0],\n",
       "          [  2, 974,   1,  15,   5,   0,   2,   0,   1,   0],\n",
       "          [ 26,   0, 788,   6, 127,   0,  47,   0,   6,   0],\n",
       "          [ 49,   7,  11, 841,  49,   0,  32,   0,  11,   0],\n",
       "          [  2,   2,  52,  18, 880,   0,  45,   0,   1,   0],\n",
       "          [  0,   0,   0,   0,   0, 973,   1,  19,   2,   5],\n",
       "          [210,   1,  69,  15, 123,   0, 568,   0,  14,   0],\n",
       "          [  0,   0,   0,   0,   0,  13,   0, 963,   0,  24],\n",
       "          [  4,   1,   0,   2,   4,   1,   2,   5, 981,   0],\n",
       "          [  1,   0,   0,   0,   0,  11,   0,  36,   0, 952]], dtype=int64),\n",
       "   array([[897,   3,  10,  12,   5,   1,  62,   0,  10,   0],\n",
       "          [  2, 980,   1,  10,   4,   0,   2,   0,   1,   0],\n",
       "          [ 17,   3, 761,   4, 130,   0,  75,   0,  10,   0],\n",
       "          [ 51,  28,   9, 812,  53,   0,  39,   0,   8,   0],\n",
       "          [  1,   2,  60,  13, 861,   0,  60,   0,   3,   0],\n",
       "          [  0,   0,   0,   1,   0, 970,   0,  18,   3,   8],\n",
       "          [190,   3,  71,  14, 107,   0, 595,   0,  20,   0],\n",
       "          [  0,   0,   0,   0,   0,  24,   0, 939,   0,  37],\n",
       "          [  2,   2,   1,   3,   4,   2,   3,   5, 978,   0],\n",
       "          [  0,   0,   0,   0,   0,   5,   0,  27,   1, 967]], dtype=int64)],\n",
       "  [array([[922,   0,  21,  10,   3,   1,  36,   0,   7,   0],\n",
       "          [  5, 979,   0,  13,   2,   0,   1,   0,   0,   0],\n",
       "          [ 20,   2, 896,   9,  46,   0,  24,   0,   3,   0],\n",
       "          [ 30,   4,  22, 905,  24,   0,  12,   0,   3,   0],\n",
       "          [  4,   0,  86,  29, 846,   0,  35,   0,   0,   0],\n",
       "          [  0,   0,   0,   1,   0, 991,   0,   8,   0,   0],\n",
       "          [199,   0, 123,  29,  83,   0, 558,   0,   8,   0],\n",
       "          [  0,   0,   0,   0,   0,  28,   0, 929,   0,  43],\n",
       "          [  2,   1,   3,   3,   2,   8,   3,   4, 974,   0],\n",
       "          [  1,   0,   0,   0,   0,   9,   0,  16,   0, 974]], dtype=int64),\n",
       "   array([[798,   0,   8,  41,   2,   1, 135,   0,  15,   0],\n",
       "          [  0, 966,   1,  22,   4,   1,   4,   0,   2,   0],\n",
       "          [ 13,   0, 809,  12,  67,   0,  94,   0,   5,   0],\n",
       "          [ 10,   0,   9, 922,  18,   0,  34,   0,   7,   0],\n",
       "          [  0,   1,  55,  39, 802,   0,  98,   0,   5,   0],\n",
       "          [  0,   0,   0,   0,   0, 994,   0,   5,   0,   1],\n",
       "          [ 95,   0,  44,  29,  49,   1, 764,   0,  18,   0],\n",
       "          [  0,   0,   0,   0,   0,  45,   0, 932,   0,  23],\n",
       "          [  2,   1,   0,   3,   1,   3,   3,   4, 983,   0],\n",
       "          [  1,   0,   0,   0,   0,  14,   0,  24,   1, 960]], dtype=int64),\n",
       "   array([[622,   0,  10,  72,   8,   1, 274,   0,  13,   0],\n",
       "          [  0, 980,   1,  13,   4,   0,   1,   0,   1,   0],\n",
       "          [  3,   1, 730,  17,  89,   0, 155,   0,   5,   0],\n",
       "          [  3,   6,   4, 920,  37,   0,  28,   0,   2,   0],\n",
       "          [  0,   1,  29,  28, 841,   0, 100,   0,   1,   0],\n",
       "          [  0,   0,   0,   1,   0, 974,   0,  15,   2,   8],\n",
       "          [ 31,   1,  36,  39,  64,   0, 822,   0,   7,   0],\n",
       "          [  0,   0,   0,   0,   0,  11,   0, 931,   1,  57],\n",
       "          [  0,   1,   0,   2,   4,   1,  10,   3, 978,   1],\n",
       "          [  0,   0,   0,   0,   0,   5,   1,  13,   0, 981]], dtype=int64),\n",
       "   array([[908,   0,  15,  13,   3,   1,  50,   1,   9,   0],\n",
       "          [  1, 976,   2,  16,   2,   0,   2,   0,   1,   0],\n",
       "          [ 27,   1, 847,   5,  68,   0,  51,   0,   1,   0],\n",
       "          [ 30,   3,  12, 894,  39,   0,  18,   0,   4,   0],\n",
       "          [  2,   1,  59,  20, 859,   0,  59,   0,   0,   0],\n",
       "          [  0,   0,   0,   1,   0, 974,   0,  18,   2,   5],\n",
       "          [175,   3,  59,  22,  80,   0, 650,   0,  11,   0],\n",
       "          [  0,   0,   0,   0,   0,   7,   0, 981,   0,  12],\n",
       "          [  1,   1,   4,   1,   2,   2,   3,   2, 984,   0],\n",
       "          [  0,   0,   0,   0,   0,   6,   1,  36,   1, 956]], dtype=int64),\n",
       "   array([[831,   0,  10,  12,   5,   0, 137,   0,   5,   0],\n",
       "          [  3, 981,   1,  11,   2,   0,   2,   0,   0,   0],\n",
       "          [ 15,   1, 819,   6,  78,   0,  80,   0,   1,   0],\n",
       "          [ 26,   5,   7, 882,  42,   0,  36,   0,   2,   0],\n",
       "          [  1,   1,  44,  14, 878,   0,  61,   0,   1,   0],\n",
       "          [  0,   0,   0,   0,   0, 972,   1,  21,   1,   5],\n",
       "          [ 93,   3,  48,  21,  81,   0, 748,   0,   6,   0],\n",
       "          [  0,   0,   0,   0,   0,   8,   0, 981,   0,  11],\n",
       "          [  4,   1,   1,   2,   6,   3,   6,   2, 975,   0],\n",
       "          [  1,   0,   0,   0,   0,   4,   0,  45,   0, 950]], dtype=int64),\n",
       "   array([[810,   0,  12,  26,   5,   1, 137,   0,   9,   0],\n",
       "          [  1, 982,   1,  11,   1,   0,   3,   0,   1,   0],\n",
       "          [ 14,   2, 799,   7, 101,   0,  76,   0,   1,   0],\n",
       "          [ 10,   1,   8, 913,  32,   0,  31,   0,   5,   0],\n",
       "          [  1,   0,  24,  30, 891,   0,  53,   0,   1,   0],\n",
       "          [  0,   0,   0,   1,   0, 988,   0,   9,   1,   1],\n",
       "          [ 79,   1,  38,  25,  93,   1, 753,   0,  10,   0],\n",
       "          [  0,   0,   0,   0,   0,  20,   0, 970,   0,  10],\n",
       "          [  1,   1,   2,   2,   3,   4,   2,   5, 980,   0],\n",
       "          [  0,   0,   0,   0,   0,  16,   1,  43,   0, 940]], dtype=int64),\n",
       "   array([[890,   0,  11,  35,   2,   1,  51,   0,  10,   0],\n",
       "          [  2, 980,   1,  14,   2,   0,   1,   0,   0,   0],\n",
       "          [ 29,   1, 878,  11,  37,   0,  42,   0,   2,   0],\n",
       "          [ 10,   3,   6, 945,  19,   0,  14,   0,   3,   0],\n",
       "          [  1,   1, 100,  41, 789,   0,  64,   0,   4,   0],\n",
       "          [  0,   0,   0,   1,   0, 968,   0,  21,   1,   9],\n",
       "          [146,   1,  83,  38,  51,   0, 668,   0,  13,   0],\n",
       "          [  0,   0,   0,   0,   0,   5,   0, 984,   0,  11],\n",
       "          [  2,   1,   0,   3,   1,   1,   0,   4, 988,   0],\n",
       "          [  1,   0,   0,   0,   0,   3,   0,  37,   0, 959]], dtype=int64),\n",
       "   array([[824,   0,  12,  17,   5,   1, 132,   0,   9,   0],\n",
       "          [  4, 975,   0,  11,   7,   0,   3,   0,   0,   0],\n",
       "          [ 13,   0, 837,   9,  76,   0,  64,   0,   1,   0],\n",
       "          [ 11,   1,   9, 885,  65,   0,  27,   0,   2,   0],\n",
       "          [  0,   0,  41,   8, 905,   0,  46,   0,   0,   0],\n",
       "          [  0,   0,   0,   0,   0, 989,   0,   8,   0,   3],\n",
       "          [ 90,   0,  52,  25,  92,   0, 734,   0,   7,   0],\n",
       "          [  0,   0,   0,   0,   0,  16,   0, 937,   0,  47],\n",
       "          [  2,   1,   0,   1,   3,   4,   5,   2, 982,   0],\n",
       "          [  0,   0,   0,   0,   0,   5,   1,  16,   0, 978]], dtype=int64),\n",
       "   array([[901,   0,  19,  15,   3,   1,  50,   0,  11,   0],\n",
       "          [  4, 977,   2,  13,   2,   0,   1,   0,   1,   0],\n",
       "          [ 17,   1, 841,  11,  75,   0,  53,   0,   2,   0],\n",
       "          [ 17,   4,  11, 928,  20,   0,  16,   0,   4,   0],\n",
       "          [  1,   1,  47,  31, 859,   0,  61,   0,   0,   0],\n",
       "          [  0,   0,   0,   1,   0, 982,   0,  16,   1,   0],\n",
       "          [153,   0,  52,  31,  70,   0, 680,   0,  14,   0],\n",
       "          [  0,   0,   0,   0,   0,  14,   0, 973,   0,  13],\n",
       "          [  2,   1,   2,   2,   1,   1,   1,   3, 987,   0],\n",
       "          [  0,   0,   0,   0,   0,   9,   0,  39,   1, 951]], dtype=int64),\n",
       "   array([[851,   3,  11,  10,   3,   2, 112,   0,   8,   0],\n",
       "          [  1, 991,   0,   5,   0,   0,   2,   0,   1,   0],\n",
       "          [ 16,   1, 841,  10,  64,   0,  67,   0,   1,   0],\n",
       "          [ 21,  15,   8, 885,  37,   0,  29,   0,   5,   0],\n",
       "          [  2,   1,  45,  17, 874,   0,  60,   0,   1,   0],\n",
       "          [  0,   0,   0,   0,   0, 970,   0,  27,   0,   3],\n",
       "          [ 98,   2,  52,  18,  55,   0, 765,   0,  10,   0],\n",
       "          [  0,   0,   0,   0,   0,   2,   0, 987,   0,  11],\n",
       "          [  2,   2,   0,   2,   2,   2,   4,   4, 982,   0],\n",
       "          [  1,   0,   0,   0,   0,   6,   0,  38,   0, 955]], dtype=int64)],\n",
       "  [array([[850,   1,  12,  18,   6,   1, 107,   0,   5,   0],\n",
       "          [  0, 973,   0,  21,   2,   0,   3,   0,   1,   0],\n",
       "          [ 12,   2, 802,  10, 102,   0,  71,   0,   1,   0],\n",
       "          [ 17,   3,  10, 905,  42,   0,  21,   0,   2,   0],\n",
       "          [  0,   0,  64,  20, 860,   0,  55,   0,   1,   0],\n",
       "          [  0,   0,   0,   0,   0, 965,   0,  23,   0,  12],\n",
       "          [127,   1,  67,  29,  72,   1, 697,   0,   6,   0],\n",
       "          [  0,   0,   0,   0,   0,  11,   0, 983,   0,   6],\n",
       "          [  2,   0,   2,   3,   5,   1,  11,   4, 972,   0],\n",
       "          [  1,   0,   0,   0,   0,   3,   0,  58,   0, 938]], dtype=int64),\n",
       "   array([[751,   1,   8,  44,   4,   0, 184,   0,   8,   0],\n",
       "          [  1, 966,   0,  27,   3,   0,   2,   0,   1,   0],\n",
       "          [ 11,   1, 762,  12, 124,   0,  86,   0,   4,   0],\n",
       "          [  4,   1,   8, 917,  35,   0,  31,   0,   4,   0],\n",
       "          [  0,   0,  50,  21, 856,   0,  72,   0,   1,   0],\n",
       "          [  0,   0,   0,   1,   0, 959,   0,  31,   2,   7],\n",
       "          [ 68,   2,  61,  38,  86,   0, 738,   0,   7,   0],\n",
       "          [  0,   0,   0,   0,   0,   6,   0, 967,   0,  27],\n",
       "          [  3,   1,   3,   3,   4,   1,  12,   5, 968,   0],\n",
       "          [  0,   0,   0,   0,   0,   6,   1,  29,   0, 964]], dtype=int64),\n",
       "   array([[766,   1,  28,  29,   2,   2, 164,   0,   8,   0],\n",
       "          [  0, 975,   0,  18,   3,   0,   3,   0,   1,   0],\n",
       "          [ 10,   1, 860,  11,  58,   0,  59,   0,   1,   0],\n",
       "          [  6,   9,  17, 905,  24,   0,  37,   0,   2,   0],\n",
       "          [  0,   0, 102,  32, 784,   0,  80,   0,   2,   0],\n",
       "          [  0,   0,   0,   1,   0, 974,   0,  23,   0,   2],\n",
       "          [ 75,   2,  92,  29,  61,   0, 733,   0,   8,   0],\n",
       "          [  0,   0,   0,   0,   0,  12,   0, 980,   0,   8],\n",
       "          [  0,   1,   8,   3,   3,   4,   9,   4, 968,   0],\n",
       "          [  0,   0,   0,   0,   0,  10,   1,  56,   0, 933]], dtype=int64),\n",
       "   array([[852,   0,   7,  13,   1,   0, 118,   0,   9,   0],\n",
       "          [  6, 969,   0,  20,   2,   0,   2,   0,   1,   0],\n",
       "          [ 16,   3, 794,   9,  75,   0, 100,   0,   3,   0],\n",
       "          [ 21,   0,   6, 922,  17,   1,  30,   0,   3,   0],\n",
       "          [  1,   1,  65,  44, 788,   0, 100,   0,   1,   0],\n",
       "          [  0,   0,   0,   1,   0, 974,   0,  20,   0,   5],\n",
       "          [123,   0,  48,  22,  59,   0, 739,   0,   9,   0],\n",
       "          [  0,   0,   0,   0,   0,   3,   0, 987,   0,  10],\n",
       "          [  5,   1,   1,   1,   2,   1,   5,   6, 978,   0],\n",
       "          [  0,   0,   0,   0,   0,   7,   0,  30,   0, 963]], dtype=int64),\n",
       "   array([[841,   0,  29,  33,   4,   0,  83,   0,  10,   0],\n",
       "          [  3, 965,   3,  24,   2,   0,   2,   0,   1,   0],\n",
       "          [ 12,   0, 868,   9,  73,   0,  37,   0,   1,   0],\n",
       "          [ 10,   1,  17, 942,  14,   0,  13,   0,   3,   0],\n",
       "          [  0,   1, 100,  42, 809,   0,  47,   0,   1,   0],\n",
       "          [  0,   0,   0,   0,   0, 974,   0,  16,   0,  10],\n",
       "          [127,   0, 126,  37,  82,   0, 617,   0,  11,   0],\n",
       "          [  0,   0,   0,   0,   0,   8,   0, 975,   0,  17],\n",
       "          [  1,   0,   5,   2,   4,   2,   6,   4, 976,   0],\n",
       "          [  0,   0,   0,   0,   0,   5,   1,  32,   0, 962]], dtype=int64),\n",
       "   array([[861,   1,  10,  17,   5,   1, 100,   0,   5,   0],\n",
       "          [  5, 963,   0,  23,   6,   0,   2,   0,   1,   0],\n",
       "          [ 17,   1, 771,   7, 114,   0,  89,   0,   1,   0],\n",
       "          [ 24,   0,  10, 905,  29,   0,  30,   0,   2,   0],\n",
       "          [  1,   0,  39,  25, 847,   0,  87,   0,   1,   0],\n",
       "          [  0,   0,   0,   0,   0, 980,   0,  17,   0,   3],\n",
       "          [119,   0,  56,  24,  55,   0, 740,   0,   6,   0],\n",
       "          [  0,   0,   0,   0,   0,  17,   0, 977,   0,   6],\n",
       "          [  7,   1,   3,   1,   5,   4,   6,   4, 969,   0],\n",
       "          [  0,   0,   0,   0,   0,  13,   1,  61,   0, 925]], dtype=int64),\n",
       "   array([[818,   0,  23,  14,   4,   2, 129,   0,  10,   0],\n",
       "          [  1, 974,   4,  14,   3,   0,   3,   0,   1,   0],\n",
       "          [ 13,   0, 838,   7,  66,   0,  73,   0,   3,   0],\n",
       "          [ 20,   4,  12, 900,  26,   0,  33,   0,   5,   0],\n",
       "          [  2,   1,  80,  31, 780,   0, 105,   0,   1,   0],\n",
       "          [  0,   0,   0,   1,   0, 971,   0,  26,   1,   1],\n",
       "          [ 99,   2,  82,  18,  44,   0, 746,   0,   9,   0],\n",
       "          [  0,   0,   0,   0,   0,  11,   0, 978,   0,  11],\n",
       "          [  0,   1,   4,   2,   5,   1,  11,   6, 970,   0],\n",
       "          [  0,   0,   0,   0,   0,   9,   1,  37,   0, 953]], dtype=int64),\n",
       "   array([[758,   0,  15,  22,   8,   1, 189,   0,   7,   0],\n",
       "          [  1, 958,   3,  27,   6,   0,   4,   0,   1,   0],\n",
       "          [  8,   0, 768,  10, 148,   0,  63,   0,   3,   0],\n",
       "          [ 14,   3,  11, 883,  57,   0,  30,   0,   1,   1],\n",
       "          [  0,   0,  61,  18, 876,   0,  44,   0,   1,   0],\n",
       "          [  0,   0,   0,   1,   0, 936,   0,  42,   4,  17],\n",
       "          [ 73,   0,  85,  32, 113,   0, 683,   0,  14,   0],\n",
       "          [  0,   0,   0,   0,   0,   6,   0, 975,   0,  19],\n",
       "          [  0,   1,   6,   2,   5,   1,   6,   5, 974,   0],\n",
       "          [  0,   0,   0,   0,   0,   2,   1,  40,   0, 957]], dtype=int64),\n",
       "   array([[800,   2,  20,  40,   6,   0, 128,   0,   4,   0],\n",
       "          [  1, 975,   1,  17,   2,   0,   4,   0,   0,   0],\n",
       "          [  7,   1, 847,  12,  81,   0,  50,   0,   2,   0],\n",
       "          [  8,   2,  17, 917,  41,   0,  15,   0,   0,   0],\n",
       "          [  1,   0,  70,  25, 858,   0,  45,   0,   1,   0],\n",
       "          [  0,   0,   0,   1,   0, 964,   0,  26,   1,   8],\n",
       "          [ 84,   0,  96,  37,  92,   0, 684,   0,   7,   0],\n",
       "          [  0,   0,   0,   0,   0,   6,   0, 985,   0,   9],\n",
       "          [  2,   1,   7,   3,   8,   1,   5,   5, 968,   0],\n",
       "          [  0,   0,   0,   0,   0,   8,   1,  45,   0, 946]], dtype=int64),\n",
       "   array([[917,   1,  18,  14,   4,   0,  36,   0,  10,   0],\n",
       "          [  2, 974,   1,  17,   3,   0,   2,   0,   1,   0],\n",
       "          [ 22,   0, 830,   8,  92,   0,  46,   0,   2,   0],\n",
       "          [ 39,   2,  17, 884,  32,   0,  18,   0,   7,   1],\n",
       "          [  2,   0,  86,  20, 842,   0,  46,   0,   4,   0],\n",
       "          [  0,   0,   0,   1,   0, 962,   0,  23,   2,  12],\n",
       "          [207,   1,  95,  24,  95,   0, 563,   0,  15,   0],\n",
       "          [  0,   0,   0,   0,   0,  12,   0, 977,   0,  11],\n",
       "          [  5,   1,   4,   0,   5,   2,   1,   4, 978,   0],\n",
       "          [  0,   0,   0,   0,   0,   2,   1,  42,   0, 955]], dtype=int64)]],\n",
       " 'cl-res': [[[0.27482733130455017, 0.9017000198364258],\n",
       "   [0.2792564034461975, 0.8992999792098999],\n",
       "   [0.27651822566986084, 0.9010999798774719],\n",
       "   [0.2720682919025421, 0.9004999995231628],\n",
       "   [0.27576932311058044, 0.899399995803833],\n",
       "   [0.25922948122024536, 0.9093000292778015],\n",
       "   [0.2605997920036316, 0.9065999984741211],\n",
       "   [0.3140111565589905, 0.8852999806404114],\n",
       "   [0.26628777384757996, 0.9031000137329102],\n",
       "   [0.2649683654308319, 0.9043999910354614]],\n",
       "  [[0.2595506012439728, 0.9136000275611877],\n",
       "   [0.29333731532096863, 0.910099983215332],\n",
       "   [0.23983389139175415, 0.9164000153541565],\n",
       "   [0.2670044004917145, 0.909600019454956],\n",
       "   [0.24210616946220398, 0.9180999994277954],\n",
       "   [0.2500377893447876, 0.9146000146865845],\n",
       "   [0.26518282294273376, 0.9128999710083008],\n",
       "   [0.25269821286201477, 0.9135000109672546],\n",
       "   [0.24895432591438293, 0.9140999913215637],\n",
       "   [0.25354185700416565, 0.9157999753952026]],\n",
       "  [[0.2620304524898529, 0.9081000089645386],\n",
       "   [0.28610217571258545, 0.9010999798774719],\n",
       "   [0.24628901481628418, 0.9192000031471252],\n",
       "   [0.2760354280471802, 0.9065999984741211],\n",
       "   [0.276518315076828, 0.9046000242233276],\n",
       "   [0.25879043340682983, 0.911899983882904],\n",
       "   [0.28366225957870483, 0.9046000242233276],\n",
       "   [0.2994674742221832, 0.8985999822616577],\n",
       "   [0.29982373118400574, 0.8971999883651733],\n",
       "   [0.30700042843818665, 0.8927000164985657]]],\n",
       " 'cl-conf': [[array([[899,   0,  11,  10,   2,   0,  66,   0,  12,   0],\n",
       "          [  1, 987,   0,   8,   1,   0,   1,   0,   2,   0],\n",
       "          [ 21,   2, 879,   5,  29,   0,  63,   0,   1,   0],\n",
       "          [ 33,   8,  10, 898,  12,   0,  35,   0,   4,   0],\n",
       "          [  2,   1, 121,  36, 759,   0,  79,   0,   2,   0],\n",
       "          [  0,   0,   0,   0,   0, 966,   0,  26,   3,   5],\n",
       "          [157,   1,  66,  15,  48,   0, 705,   0,   8,   0],\n",
       "          [  0,   0,   0,   0,   0,   7,   0, 980,   1,  12],\n",
       "          [  4,   0,   0,   1,   0,   1,   1,   5, 988,   0],\n",
       "          [  1,   0,   0,   0,   0,   5,   0,  38,   0, 956]], dtype=int64),\n",
       "   array([[790,   0,  12,  30,   1,   1, 154,   0,  12,   0],\n",
       "          [  1, 975,   1,  15,   4,   0,   2,   0,   2,   0],\n",
       "          [ 14,   0, 855,  10,  41,   0,  77,   0,   3,   0],\n",
       "          [  6,   2,  14, 923,  17,   0,  33,   0,   5,   0],\n",
       "          [  1,   1,  81,  28, 771,   0, 117,   0,   1,   0],\n",
       "          [  0,   0,   0,   0,   0, 982,   0,  15,   0,   3],\n",
       "          [ 77,   0,  45,  31,  38,   0, 797,   0,  12,   0],\n",
       "          [  0,   0,   0,   0,   0,   7,   0, 985,   0,   8],\n",
       "          [  3,   1,   1,   3,   3,   1,   3,   5, 980,   0],\n",
       "          [  0,   0,   0,   0,   0,   6,   0,  58,   1, 935]], dtype=int64),\n",
       "   array([[808,   0,  16,  11,   2,   1, 157,   0,   5,   0],\n",
       "          [  4, 976,   1,  15,   1,   0,   1,   0,   2,   0],\n",
       "          [ 13,   0, 871,   8,  43,   0,  63,   0,   2,   0],\n",
       "          [ 20,   1,  13, 912,  13,   0,  39,   0,   2,   0],\n",
       "          [  1,   1,  76,  46, 765,   0, 111,   0,   0,   0],\n",
       "          [  0,   0,   0,   0,   0, 980,   1,  11,   0,   8],\n",
       "          [ 83,   0,  60,  21,  43,   0, 790,   0,   3,   0],\n",
       "          [  0,   0,   0,   0,   0,  14,   0, 967,   0,  19],\n",
       "          [  4,   1,   3,   2,   3,   1,   4,   5, 977,   0],\n",
       "          [  1,   0,   0,   0,   0,   5,   0,  29,   0, 965]], dtype=int64),\n",
       "   array([[749,   0,  10,  15,   6,   1, 207,   0,  12,   0],\n",
       "          [  1, 976,   0,  18,   2,   0,   1,   0,   2,   0],\n",
       "          [ 17,   2, 803,  10,  97,   0,  66,   0,   5,   0],\n",
       "          [  6,   5,   8, 916,  27,   0,  33,   0,   5,   0],\n",
       "          [  0,   1,  28,  26, 902,   0,  43,   0,   0,   0],\n",
       "          [  0,   0,   0,   0,   0, 977,   1,  15,   1,   6],\n",
       "          [ 64,   1,  40,  27,  92,   0, 765,   0,  11,   0],\n",
       "          [  0,   0,   0,   0,   0,   7,   0, 981,   1,  11],\n",
       "          [  0,   0,   1,   3,   3,   2,   2,   2, 987,   0],\n",
       "          [  1,   0,   0,   0,   0,   5,   0,  45,   0, 949]], dtype=int64),\n",
       "   array([[795,   0,   7,   8,   7,   1, 173,   0,   9,   0],\n",
       "          [  1, 986,   0,   9,   2,   0,   1,   0,   1,   0],\n",
       "          [ 14,   0, 755,   9, 111,   0, 110,   0,   1,   0],\n",
       "          [ 19,  16,   3, 864,  52,   0,  43,   0,   3,   0],\n",
       "          [  1,   1,  25,  10, 904,   0,  59,   0,   0,   0],\n",
       "          [  0,   0,   0,   0,   0, 987,   0,   6,   0,   7],\n",
       "          [ 71,   2,  23,  17,  88,   0, 791,   0,   8,   0],\n",
       "          [  0,   0,   0,   0,   0,  15,   0, 972,   0,  13],\n",
       "          [  3,   1,   0,   1,   4,   3,   3,   2, 983,   0],\n",
       "          [  0,   0,   0,   0,   0,   5,   1,  37,   0, 957]], dtype=int64),\n",
       "   array([[874,   3,  24,  15,   4,   1,  75,   0,   4,   0],\n",
       "          [  2, 990,   0,   4,   2,   0,   1,   0,   1,   0],\n",
       "          [ 17,   2, 888,   4,  57,   0,  32,   0,   0,   0],\n",
       "          [ 12,  13,  16, 894,  37,   0,  26,   0,   2,   0],\n",
       "          [  0,   1,  64,  22, 878,   0,  35,   0,   0,   0],\n",
       "          [  0,   0,   0,   0,   0, 978,   0,  17,   0,   5],\n",
       "          [122,   3,  65,  17, 108,   0, 681,   0,   4,   0],\n",
       "          [  0,   0,   0,   0,   0,   6,   0, 978,   0,  16],\n",
       "          [  4,   1,   5,   1,   3,   0,   3,   5, 978,   0],\n",
       "          [  1,   0,   0,   0,   0,   6,   0,  39,   0, 954]], dtype=int64),\n",
       "   array([[883,   0,  18,  14,   3,   1,  74,   0,   7,   0],\n",
       "          [  3, 985,   0,  10,   1,   0,   0,   0,   1,   0],\n",
       "          [ 18,   1, 882,   8,  38,   0,  52,   0,   1,   0],\n",
       "          [ 21,   3,  14, 924,  18,   0,  20,   0,   0,   0],\n",
       "          [  3,   1,  78,  31, 804,   0,  83,   0,   0,   0],\n",
       "          [  0,   0,   0,   0,   0, 982,   0,   8,   0,  10],\n",
       "          [148,   3,  60,  24,  63,   0, 698,   0,   4,   0],\n",
       "          [  0,   0,   0,   0,   0,  10,   0, 965,   0,  25],\n",
       "          [  3,   1,   6,   4,   4,   2,   4,   2, 974,   0],\n",
       "          [  1,   0,   0,   0,   0,   7,   0,  23,   0, 969]], dtype=int64),\n",
       "   array([[711,   0,  12,  31,  25,   1, 212,   0,   8,   0],\n",
       "          [  1, 978,   0,  14,   5,   0,   1,   0,   1,   0],\n",
       "          [ 10,   1, 710,   8, 192,   0,  79,   0,   0,   0],\n",
       "          [  2,   3,   6, 892,  72,   0,  25,   0,   0,   0],\n",
       "          [  0,   1,  12,   9, 946,   0,  32,   0,   0,   0],\n",
       "          [  0,   0,   0,   0,   0, 987,   0,  11,   0,   2],\n",
       "          [ 49,   2,  36,  22, 158,   0, 728,   0,   5,   0],\n",
       "          [  0,   0,   0,   0,   0,  12,   0, 973,   0,  15],\n",
       "          [  2,   1,   2,   5,   9,   2,   6,   4, 969,   0],\n",
       "          [  1,   0,   0,   0,   0,   7,   0,  33,   0, 959]], dtype=int64),\n",
       "   array([[763,   4,  29,  25,   5,   0, 166,   0,   8,   0],\n",
       "          [  1, 987,   0,   8,   2,   0,   1,   0,   1,   0],\n",
       "          [  7,   1, 883,   9,  52,   0,  48,   0,   0,   0],\n",
       "          [  3,  10,  18, 926,  12,   0,  28,   0,   3,   0],\n",
       "          [  0,   1,  64,  44, 841,   0,  50,   0,   0,   0],\n",
       "          [  0,   0,   0,   0,   0, 971,   0,  23,   0,   6],\n",
       "          [ 58,   5,  65,  31,  86,   0, 748,   0,   7,   0],\n",
       "          [  0,   0,   0,   0,   0,   6,   0, 971,   0,  23],\n",
       "          [  2,   1,   4,   2,   4,   3,   4,   4, 976,   0],\n",
       "          [  1,   0,   0,   0,   0,   5,   0,  29,   0, 965]], dtype=int64),\n",
       "   array([[853,   0,  13,  37,   5,   1,  87,   0,   4,   0],\n",
       "          [  0, 984,   0,  10,   2,   0,   2,   0,   2,   0],\n",
       "          [ 22,   2, 781,   8, 114,   0,  72,   0,   1,   0],\n",
       "          [  7,   3,   6, 951,  17,   0,  16,   0,   0,   0],\n",
       "          [  0,   1,  25,  29, 905,   0,  40,   0,   0,   0],\n",
       "          [  0,   0,   0,   0,   0, 979,   0,  17,   0,   4],\n",
       "          [125,   2,  40,  44, 107,   1, 676,   0,   5,   0],\n",
       "          [  0,   0,   0,   0,   0,   6,   0, 972,   0,  22],\n",
       "          [  2,   1,   0,   4,   7,   2,   1,   3, 980,   0],\n",
       "          [  1,   0,   0,   0,   0,   5,   0,  31,   0, 963]], dtype=int64)],\n",
       "  [array([[879,   1,   9,  13,   4,   0,  86,   0,   8,   0],\n",
       "          [  3, 986,   0,   3,   1,   0,   6,   0,   1,   0],\n",
       "          [ 16,   1, 870,  10,  39,   0,  61,   0,   3,   0],\n",
       "          [ 30,   4,   8, 930,   8,   0,  19,   0,   1,   0],\n",
       "          [  1,   0,  64,  40, 827,   0,  67,   0,   1,   0],\n",
       "          [  0,   0,   0,   0,   0, 968,   0,  24,   0,   8],\n",
       "          [117,   3,  51,  23,  53,   0, 746,   0,   7,   0],\n",
       "          [  0,   0,   0,   0,   0,   3,   0, 985,   0,  12],\n",
       "          [  4,   1,   0,   3,   0,   0,   4,   5, 983,   0],\n",
       "          [  0,   0,   1,   0,   0,   4,   0,  33,   0, 962]], dtype=int64),\n",
       "   array([[880,   0,  22,  22,   1,   1,  68,   0,   6,   0],\n",
       "          [  0, 993,   0,   3,   1,   0,   3,   0,   0,   0],\n",
       "          [ 15,   2, 925,   4,  14,   0,  38,   0,   2,   0],\n",
       "          [ 12,   7,   9, 938,  21,   0,  11,   0,   2,   0],\n",
       "          [  2,   1, 143,  31, 749,   0,  73,   0,   1,   0],\n",
       "          [  0,   0,   0,   0,   0, 986,   0,   9,   0,   5],\n",
       "          [135,   3,  80,  34,  31,   0, 713,   0,   4,   0],\n",
       "          [  0,   0,   0,   0,   0,   7,   0, 969,   0,  24],\n",
       "          [  4,   0,   1,   7,   0,   1,   0,   2, 985,   0],\n",
       "          [  0,   0,   1,   0,   0,   8,   1,  27,   0, 963]], dtype=int64),\n",
       "   array([[836,   0,  27,  17,   3,   2, 103,   0,  12,   0],\n",
       "          [  1, 986,   1,   5,   3,   0,   3,   0,   1,   0],\n",
       "          [  8,   1, 873,   4,  70,   0,  42,   0,   2,   0],\n",
       "          [  4,   7,  16, 913,  25,   0,  32,   0,   3,   0],\n",
       "          [  0,   0,  30,  16, 907,   0,  47,   0,   0,   0],\n",
       "          [  0,   0,   0,   0,   0, 989,   0,   7,   0,   4],\n",
       "          [ 93,   2,  68,  13,  74,   0, 743,   0,   7,   0],\n",
       "          [  0,   0,   0,   0,   0,  13,   0, 951,   0,  36],\n",
       "          [  2,   0,   2,   2,   1,   2,   2,   2, 987,   0],\n",
       "          [  0,   0,   0,   0,   0,   5,   1,  15,   0, 979]], dtype=int64),\n",
       "   array([[817,   0,  29,  12,   3,   1, 127,   0,  11,   0],\n",
       "          [  4, 975,   0,  14,   4,   0,   2,   0,   1,   0],\n",
       "          [  8,   1, 897,   9,  40,   0,  42,   0,   3,   0],\n",
       "          [ 10,   0,  15, 936,  19,   0,  20,   0,   0,   0],\n",
       "          [  0,   0,  90,  30, 803,   0,  77,   0,   0,   0],\n",
       "          [  0,   0,   0,   0,   0, 986,   0,  13,   0,   1],\n",
       "          [ 87,   0,  62,  25,  50,   0, 767,   0,   9,   0],\n",
       "          [  0,   0,   0,   0,   0,   6,   0, 987,   0,   7],\n",
       "          [  2,   0,   2,   2,   1,   2,   0,   4, 987,   0],\n",
       "          [  0,   0,   0,   0,   0,   6,   0,  52,   1, 941]], dtype=int64),\n",
       "   array([[873,   2,  24,  10,   6,   1,  73,   0,  11,   0],\n",
       "          [  0, 993,   0,   3,   0,   0,   4,   0,   0,   0],\n",
       "          [ 15,   1, 873,   6,  66,   0,  38,   0,   1,   0],\n",
       "          [ 11,   5,  16, 906,  24,   0,  36,   0,   2,   0],\n",
       "          [  0,   1,  35,  18, 899,   0,  46,   0,   1,   0],\n",
       "          [  0,   0,   0,   0,   0, 977,   0,  12,   1,  10],\n",
       "          [119,   3,  55,  16,  69,   0, 733,   0,   5,   0],\n",
       "          [  0,   0,   0,   0,   0,   7,   0, 965,   0,  28],\n",
       "          [  3,   2,   1,   1,   1,   1,   2,   2, 987,   0],\n",
       "          [  0,   0,   1,   0,   0,   5,   0,  19,   0, 975]], dtype=int64),\n",
       "   array([[866,   0,  12,  18,   2,   0,  96,   0,   6,   0],\n",
       "          [  5, 982,   1,   8,   1,   0,   2,   0,   1,   0],\n",
       "          [ 19,   1, 861,  14,  41,   0,  63,   0,   1,   0],\n",
       "          [ 13,   1,   9, 955,   7,   0,  14,   0,   0,   1],\n",
       "          [  1,   0,  65,  49, 822,   0,  62,   0,   1,   0],\n",
       "          [  0,   0,   0,   0,   0, 990,   0,   8,   0,   2],\n",
       "          [111,   0,  48,  28,  61,   0, 746,   0,   6,   0],\n",
       "          [  0,   0,   0,   0,   0,  11,   0, 974,   0,  15],\n",
       "          [  3,   1,   2,   3,   1,   3,   1,   1, 985,   0],\n",
       "          [  0,   0,   0,   0,   0,   9,   1,  25,   0, 965]], dtype=int64),\n",
       "   array([[840,   0,  11,  17,   2,   0, 118,   0,  12,   0],\n",
       "          [  1, 982,   0,  10,   1,   0,   4,   0,   2,   0],\n",
       "          [ 17,   1, 899,   6,  26,   0,  50,   0,   1,   0],\n",
       "          [ 13,   1,  12, 903,  33,   0,  36,   0,   2,   0],\n",
       "          [  1,   0, 106,  16, 799,   0,  76,   0,   2,   0],\n",
       "          [  0,   0,   0,   0,   0, 978,   0,   6,   5,  11],\n",
       "          [ 77,   0,  56,  20,  43,   0, 797,   0,   7,   0],\n",
       "          [  0,   0,   0,   0,   0,   9,   0, 976,   0,  15],\n",
       "          [  3,   0,   1,   1,   0,   1,   0,   3, 991,   0],\n",
       "          [  0,   0,   0,   0,   0,   3,   1,  30,   2, 964]], dtype=int64),\n",
       "   array([[816,   0,  17,  24,   4,   1, 135,   0,   3,   0],\n",
       "          [  5, 975,   0,  13,   1,   0,   6,   0,   0,   0],\n",
       "          [ 14,   2, 870,   7,  48,   0,  57,   0,   2,   0],\n",
       "          [  9,   0,  10, 922,  37,   0,  22,   0,   0,   0],\n",
       "          [  1,   0,  44,  16, 872,   0,  67,   0,   0,   0],\n",
       "          [  0,   0,   0,   0,   0, 986,   0,  10,   0,   4],\n",
       "          [ 94,   0,  43,  30,  47,   2, 781,   0,   3,   0],\n",
       "          [  0,   0,   0,   0,   0,   8,   0, 968,   0,  24],\n",
       "          [  5,   0,   2,   3,   3,   4,   6,   4, 972,   1],\n",
       "          [  0,   0,   0,   0,   0,   4,   0,  23,   0, 973]], dtype=int64),\n",
       "   array([[920,   0,  11,  18,   3,   1,  39,   0,   8,   0],\n",
       "          [  5, 982,   0,   8,   2,   0,   2,   0,   1,   0],\n",
       "          [ 23,   1, 897,  12,  34,   0,  32,   0,   1,   0],\n",
       "          [ 20,   2,   7, 940,  20,   0,  11,   0,   0,   0],\n",
       "          [  2,   0,  83,  34, 821,   0,  60,   0,   0,   0],\n",
       "          [  0,   0,   0,   0,   0, 990,   0,   6,   0,   4],\n",
       "          [161,   2,  73,  29,  47,   0, 682,   0,   6,   0],\n",
       "          [  0,   0,   0,   0,   0,  18,   0, 971,   0,  11],\n",
       "          [  5,   2,   1,   7,   0,   2,   2,   2, 978,   1],\n",
       "          [  0,   0,   1,   0,   0,   9,   0,  30,   0, 960]], dtype=int64),\n",
       "   array([[891,   0,  14,   9,   4,   1,  69,   0,  12,   0],\n",
       "          [  3, 985,   1,   6,   1,   0,   3,   0,   1,   0],\n",
       "          [ 19,   1, 848,   6,  79,   0,  46,   0,   1,   0],\n",
       "          [ 25,   1,  12, 901,  34,   0,  26,   0,   1,   0],\n",
       "          [  1,   2,  22,  11, 922,   0,  41,   0,   1,   0],\n",
       "          [  1,   0,   0,   0,   0, 987,   0,   9,   0,   3],\n",
       "          [133,   0,  63,  17,  77,   0, 700,   0,  10,   0],\n",
       "          [  0,   0,   0,   0,   0,  13,   0, 975,   0,  12],\n",
       "          [  4,   1,   3,   0,   2,   2,   1,   1, 986,   0],\n",
       "          [  0,   0,   0,   0,   0,   7,   0,  30,   0, 963]], dtype=int64)],\n",
       "  [array([[817,   1,   9,   9,   1,   1, 151,   0,  11,   0],\n",
       "          [  3, 986,   1,   3,   1,   0,   5,   0,   1,   0],\n",
       "          [ 17,   1, 843,   8,  34,   0,  96,   0,   1,   0],\n",
       "          [ 29,  11,  11, 888,  10,   0,  49,   0,   1,   1],\n",
       "          [  0,   1,  46,  36, 816,   0, 100,   0,   1,   0],\n",
       "          [  0,   0,   0,   0,   0, 979,   0,  15,   1,   5],\n",
       "          [ 86,   1,  38,  12,  33,   0, 819,   0,  11,   0],\n",
       "          [  0,   0,   0,   0,   0,   9,   0, 973,   2,  16],\n",
       "          [  3,   1,   2,   2,   2,   1,   1,   1, 987,   0],\n",
       "          [  0,   0,   1,   0,   0,   3,   0,  23,   0, 973]], dtype=int64),\n",
       "   array([[760,   1,   3,  39,  10,   0, 177,   0,  10,   0],\n",
       "          [  0, 991,   0,   6,   0,   0,   1,   0,   2,   0],\n",
       "          [  8,   2, 745,  10, 107,   0, 126,   0,   2,   0],\n",
       "          [  6,   6,   5, 917,  32,   1,  27,   0,   6,   0],\n",
       "          [  0,   0,  15,  13, 902,   0,  69,   0,   1,   0],\n",
       "          [  0,   0,   0,   0,   0, 966,   0,  26,   1,   7],\n",
       "          [ 50,   1,  16,  29,  91,   0, 803,   0,  10,   0],\n",
       "          [  0,   0,   0,   0,   0,   2,   0, 990,   0,   8],\n",
       "          [  3,   1,   1,   3,   3,   2,   4,   4, 979,   0],\n",
       "          [  0,   0,   0,   0,   0,   3,   0,  38,   1, 958]], dtype=int64),\n",
       "   array([[842,   2,  31,  17,   1,   0,  98,   0,   9,   0],\n",
       "          [  0, 985,   2,   9,   1,   0,   2,   0,   1,   0],\n",
       "          [  9,   0, 930,   7,  28,   0,  25,   0,   1,   0],\n",
       "          [  6,   1,  14, 925,  21,   0,  31,   0,   2,   0],\n",
       "          [  0,   0,  74,  25, 847,   0,  53,   0,   1,   0],\n",
       "          [  1,   0,   0,   0,   0, 986,   0,  11,   0,   2],\n",
       "          [ 74,   0,  77,  21,  62,   0, 760,   0,   6,   0],\n",
       "          [  0,   0,   0,   0,   0,  13,   0, 978,   0,   9],\n",
       "          [  3,   1,   0,   1,   2,   2,   3,   5, 981,   2],\n",
       "          [  1,   0,   0,   0,   0,   4,   0,  37,   0, 958]], dtype=int64),\n",
       "   array([[807,   1,  22,  41,   1,   2, 118,   0,   8,   0],\n",
       "          [  1, 978,   1,  12,   3,   0,   3,   0,   2,   0],\n",
       "          [ 10,   1, 890,   8,  24,   0,  66,   0,   1,   0],\n",
       "          [  7,   5,  10, 943,  11,   0,  22,   0,   2,   0],\n",
       "          [  0,   0,  76,  44, 787,   0,  91,   0,   2,   0],\n",
       "          [  0,   0,   0,   1,   0, 986,   0,  10,   0,   3],\n",
       "          [ 76,   0,  55,  31,  42,   0, 788,   0,   8,   0],\n",
       "          [  0,   0,   0,   0,   0,  14,   0, 930,   0,  56],\n",
       "          [  0,   0,   0,   4,   1,   5,   6,   2, 981,   1],\n",
       "          [  0,   0,   0,   0,   0,  11,   0,  13,   0, 976]], dtype=int64),\n",
       "   array([[818,   1,  15,  30,   3,   0, 129,   0,   4,   0],\n",
       "          [  2, 977,   0,  13,   3,   0,   3,   0,   2,   0],\n",
       "          [  9,   1, 842,  12,  68,   0,  67,   0,   1,   0],\n",
       "          [  4,   1,   8, 933,  35,   0,  18,   0,   1,   0],\n",
       "          [  1,   1,  47,  16, 892,   0,  43,   0,   0,   0],\n",
       "          [  0,   0,   0,   0,   0, 970,   0,  14,   2,  14],\n",
       "          [ 85,   0,  50,  31,  94,   0, 732,   0,   8,   0],\n",
       "          [  0,   0,   0,   0,   0,  14,   0, 912,   0,  74],\n",
       "          [  4,   0,   3,   3,   3,   2,   3,   1, 980,   1],\n",
       "          [  0,   0,   1,   0,   0,   1,   0,   7,   1, 990]], dtype=int64),\n",
       "   array([[875,   0,  12,   9,   1,   2,  93,   0,   8,   0],\n",
       "          [  2, 984,   0,   8,   2,   0,   3,   0,   1,   0],\n",
       "          [ 22,   1, 841,  10,  49,   0,  73,   0,   4,   0],\n",
       "          [ 15,   3,   5, 921,  15,   0,  36,   0,   5,   0],\n",
       "          [  0,   0,  53,  33, 837,   0,  75,   0,   2,   0],\n",
       "          [  0,   0,   0,   0,   0, 992,   0,   5,   0,   3],\n",
       "          [100,   2,  46,  17,  52,   0, 776,   0,   7,   0],\n",
       "          [  0,   0,   0,   0,   0,  25,   0, 935,   2,  38],\n",
       "          [  5,   1,   4,   2,   0,   1,   1,   1, 985,   0],\n",
       "          [  0,   0,   1,   0,   0,   8,   0,  17,   1, 973]], dtype=int64),\n",
       "   array([[912,   1,  31,   6,   2,   0,  36,   0,  12,   0],\n",
       "          [  3, 989,   0,   5,   0,   0,   1,   0,   2,   0],\n",
       "          [ 15,   1, 932,   4,  32,   0,  15,   0,   1,   0],\n",
       "          [ 26,   8,  36, 884,  22,   0,  23,   0,   1,   0],\n",
       "          [  2,   1,  92,  22, 838,   0,  45,   0,   0,   0],\n",
       "          [  0,   0,   0,   0,   0, 963,   0,  30,   1,   6],\n",
       "          [173,   2, 113,  18,  74,   0, 609,   0,  11,   0],\n",
       "          [  0,   0,   0,   0,   0,   1,   0, 990,   0,   9],\n",
       "          [  4,   1,   6,   0,   1,   1,   1,   5, 981,   0],\n",
       "          [  1,   0,   0,   0,   0,   3,   0,  48,   0, 948]], dtype=int64),\n",
       "   array([[856,   2,  40,   9,   2,   0,  84,   0,   7,   0],\n",
       "          [  2, 982,   1,   8,   2,   0,   5,   0,   0,   0],\n",
       "          [  9,   2, 921,   3,  35,   0,  28,   0,   2,   0],\n",
       "          [ 27,   2,  26, 896,  15,   0,  34,   0,   0,   0],\n",
       "          [  1,   1, 143,  29, 772,   0,  53,   0,   1,   0],\n",
       "          [  0,   0,   0,   0,   0, 967,   1,  22,   2,   8],\n",
       "          [121,   1, 129,  16,  50,   0, 680,   0,   3,   0],\n",
       "          [  0,   0,   0,   0,   0,   3,   0, 969,   0,  28],\n",
       "          [  1,   0,  10,   3,   3,   2,  11,   3, 966,   1],\n",
       "          [  0,   0,   1,   0,   0,   4,   0,  18,   0, 977]], dtype=int64),\n",
       "   array([[912,   0,  11,  22,   2,   1,  45,   0,   7,   0],\n",
       "          [  6, 970,   0,  15,   4,   0,   3,   0,   2,   0],\n",
       "          [ 25,   0, 872,  10,  42,   1,  45,   0,   5,   0],\n",
       "          [ 32,   1,  14, 903,  30,   1,  10,   0,   9,   0],\n",
       "          [  4,   0,  82,  31, 807,   3,  62,   0,  11,   0],\n",
       "          [  0,   0,   0,   0,   0, 987,   0,  10,   1,   2],\n",
       "          [207,   1,  73,  25,  54,   2, 620,   0,  18,   0],\n",
       "          [  0,   0,   0,   0,   0,  21,   0, 972,   0,   7],\n",
       "          [  4,   0,   3,   1,   1,   4,   1,   1, 985,   0],\n",
       "          [  0,   0,   0,   0,   0,  17,   0,  37,   2, 944]], dtype=int64),\n",
       "   array([[853,   0,  12,  50,   0,   0,  79,   0,   6,   0],\n",
       "          [  1, 968,   0,  24,   0,   0,   6,   0,   1,   0],\n",
       "          [ 16,   1, 847,  12,  32,   0,  90,   0,   2,   0],\n",
       "          [ 11,   0,   6, 957,   1,   0,  22,   0,   3,   0],\n",
       "          [  1,   0,  85,  69, 692,   0, 152,   0,   1,   0],\n",
       "          [  0,   0,   0,   1,   0, 976,   0,  18,   1,   4],\n",
       "          [118,   0,  59,  49,  23,   0, 741,   0,  10,   0],\n",
       "          [  0,   0,   0,   0,   0,   6,   0, 987,   0,   7],\n",
       "          [  2,   1,   4,   3,   0,   1,   3,   5, 980,   1],\n",
       "          [  0,   0,   0,   0,   0,   9,   0,  64,   1, 926]], dtype=int64)]]}"
      ]
     },
     "execution_count": 97,
     "metadata": {},
     "output_type": "execute_result"
    }
   ],
   "source": [
    "from scipy import stats\n",
    "\n",
    "alpha = 0.05;\n",
    "\n",
    "s, p = stats.normaltest(results_control_auc)\n",
    "print(p)\n",
    "if p < alpha:\n",
    "    print('Control data is not normal')\n",
    "else:\n",
    "    print('Control data is normal')\n",
    "\n",
    "s, p = stats.normaltest(results_experimental_auc)\n",
    "print(p)\n",
    "if p < alpha:\n",
    "    print('Experimental data is not normal')\n",
    "else:\n",
    "    print('Experimental data is normal')"
   ]
  },
  {
   "cell_type": "code",
   "execution_count": 31,
   "id": "65d69c84",
   "metadata": {},
   "outputs": [],
   "source": [
    "latent_inp = layers.Input(shape=autoencoder.output[1].shape[1:])\n",
    "latent_x = layers.Flatten()(latent_inp)\n",
    "latent_out = layers.Dense(num_classes, activation=\"softmax\")(latent_x)\n",
    "latent_model = keras.Model(latent_inp, latent_out)"
   ]
  },
  {
   "cell_type": "code",
   "execution_count": 32,
   "id": "75ecc001",
   "metadata": {},
   "outputs": [],
   "source": [
    "latent_x_test = autoencoder.predict(x_test)[1]\n",
    "latent_x_train = autoencoder.predict(x_train)[1]"
   ]
  },
  {
   "cell_type": "code",
   "execution_count": 33,
   "id": "99b29af7",
   "metadata": {},
   "outputs": [
    {
     "name": "stdout",
     "output_type": "stream",
     "text": [
      "Epoch 1/60\n",
      "422/422 [==============================] - 3s 8ms/step - loss: 0.6237 - accuracy: 0.7915 - val_loss: 0.2792 - val_accuracy: 0.8993\n",
      "Epoch 2/60\n",
      "422/422 [==============================] - 4s 8ms/step - loss: 0.2344 - accuracy: 0.9174 - val_loss: 0.2450 - val_accuracy: 0.9105\n",
      "Epoch 3/60\n",
      "422/422 [==============================] - 4s 8ms/step - loss: 0.2024 - accuracy: 0.9298 - val_loss: 0.2410 - val_accuracy: 0.9152\n",
      "Epoch 4/60\n",
      "422/422 [==============================] - 3s 8ms/step - loss: 0.1877 - accuracy: 0.9337 - val_loss: 0.2311 - val_accuracy: 0.9135\n",
      "Epoch 5/60\n",
      "422/422 [==============================] - 3s 8ms/step - loss: 0.1789 - accuracy: 0.9377 - val_loss: 0.2292 - val_accuracy: 0.9185\n",
      "Epoch 6/60\n",
      "422/422 [==============================] - 4s 8ms/step - loss: 0.1695 - accuracy: 0.9407 - val_loss: 0.2422 - val_accuracy: 0.9122\n",
      "Epoch 7/60\n",
      "422/422 [==============================] - 3s 8ms/step - loss: 0.1622 - accuracy: 0.9424 - val_loss: 0.2363 - val_accuracy: 0.9175\n",
      "313/313 [==============================] - 2s 5ms/step - loss: 0.2529 - accuracy: 0.9106\n"
     ]
    },
    {
     "data": {
      "text/plain": [
       "[0.252933144569397, 0.9106000065803528]"
      ]
     },
     "execution_count": 33,
     "metadata": {},
     "output_type": "execute_result"
    }
   ],
   "source": [
    "latent_model.compile(loss=\"categorical_crossentropy\", optimizer=\"adam\", metrics=[\"accuracy\"])\n",
    "\n",
    "latent_model.fit(latent_x_train, y_train, batch_size=batch_size, epochs=60, validation_split=0.1, callbacks=[es])\n",
    "\n",
    "latent_model.evaluate(latent_x_test,y_test)"
   ]
  },
  {
   "cell_type": "code",
   "execution_count": 137,
   "id": "4022d622",
   "metadata": {},
   "outputs": [],
   "source": [
    "# model.summary()\n",
    "model2 =  tf.keras.models.Model(\n",
    "    inputs=model.inputs,\n",
    "    outputs=[model.outputs,model.get_layer(name=\"relu1\").output],\n",
    ")"
   ]
  },
  {
   "cell_type": "code",
   "execution_count": 138,
   "id": "2205e5dd",
   "metadata": {},
   "outputs": [],
   "source": [
    "model2.compile(optimizer='adam', loss=['binary_crossentropy',None])"
   ]
  },
  {
   "cell_type": "code",
   "execution_count": 139,
   "id": "d15af6d3",
   "metadata": {},
   "outputs": [
    {
     "name": "stdout",
     "output_type": "stream",
     "text": [
      "Epoch 1/10\n",
      "352/352 [==============================] - 42s 118ms/step - loss: 0.5792 - relu_loss: 0.5792 - val_loss: 0.6254 - val_relu_loss: 0.6254\n",
      "Epoch 2/10\n",
      "352/352 [==============================] - 41s 117ms/step - loss: 0.5595 - relu_loss: 0.5595 - val_loss: 0.6704 - val_relu_loss: 0.6704\n",
      "Epoch 3/10\n",
      "352/352 [==============================] - 41s 117ms/step - loss: 0.5802 - relu_loss: 0.5802 - val_loss: 0.5642 - val_relu_loss: 0.5642\n",
      "Epoch 4/10\n",
      "352/352 [==============================] - 41s 117ms/step - loss: 0.5582 - relu_loss: 0.5582 - val_loss: 0.5560 - val_relu_loss: 0.5560\n",
      "Epoch 5/10\n",
      "352/352 [==============================] - 41s 117ms/step - loss: 0.5571 - relu_loss: 0.5571 - val_loss: 0.5653 - val_relu_loss: 0.5653\n",
      "Epoch 6/10\n",
      "352/352 [==============================] - 41s 117ms/step - loss: 0.5581 - relu_loss: 0.5581 - val_loss: 0.5674 - val_relu_loss: 0.5674\n",
      "Epoch 00006: early stopping\n"
     ]
    },
    {
     "data": {
      "text/plain": [
       "<tensorflow.python.keras.callbacks.History at 0x219bbed16a0>"
      ]
     },
     "execution_count": 139,
     "metadata": {},
     "output_type": "execute_result"
    }
   ],
   "source": [
    "batch_size = 128\n",
    "epochs = 10\n",
    "\n",
    "from tensorflow.keras.callbacks import EarlyStopping,ReduceLROnPlateau\n",
    "es = EarlyStopping(monitor='val_loss', mode='min', verbose=1, patience=2)\n",
    "\n",
    "\n",
    "model2.fit(x_train, x_train, batch_size=batch_size, epochs=epochs, validation_split=0.1, callbacks=[es])"
   ]
  },
  {
   "cell_type": "code",
   "execution_count": 140,
   "id": "63f3cc7a",
   "metadata": {},
   "outputs": [],
   "source": [
    "latent_inp = layers.Input(shape=model2.output[1].shape[1:])\n",
    "latent_x = layers.GlobalAveragePooling2D()(latent_inp)\n",
    "latent_out = layers.Dense(num_classes, activation=\"softmax\")(latent_x)\n",
    "latent_model = keras.Model(latent_inp, latent_out)"
   ]
  },
  {
   "cell_type": "code",
   "execution_count": 141,
   "id": "24da26e0",
   "metadata": {},
   "outputs": [],
   "source": [
    "latent_x_test = model2.predict(x_test)[1]\n",
    "latent_x_train = model2.predict(x_train)[1]"
   ]
  },
  {
   "cell_type": "code",
   "execution_count": null,
   "id": "fd9cba18",
   "metadata": {},
   "outputs": [],
   "source": []
  },
  {
   "cell_type": "code",
   "execution_count": 142,
   "id": "accd0310",
   "metadata": {},
   "outputs": [
    {
     "name": "stdout",
     "output_type": "stream",
     "text": [
      "Epoch 1/60\n",
      "352/352 [==============================] - 3s 9ms/step - loss: 2.3283 - accuracy: 0.1406 - val_loss: 2.2561 - val_accuracy: 0.1458\n",
      "Epoch 2/60\n",
      "352/352 [==============================] - 3s 9ms/step - loss: 2.2754 - accuracy: 0.1484 - val_loss: 2.2662 - val_accuracy: 0.1390\n",
      "Epoch 3/60\n",
      "352/352 [==============================] - 3s 9ms/step - loss: 2.2626 - accuracy: 0.1510 - val_loss: 2.2579 - val_accuracy: 0.1514\n",
      "Epoch 00003: early stopping\n",
      "313/313 [==============================] - 2s 5ms/step - loss: 2.2475 - accuracy: 0.1598\n"
     ]
    },
    {
     "data": {
      "text/plain": [
       "[2.2474801540374756, 0.1597999930381775]"
      ]
     },
     "execution_count": 142,
     "metadata": {},
     "output_type": "execute_result"
    }
   ],
   "source": [
    "latent_model.compile(loss=\"categorical_crossentropy\", optimizer=\"adam\", metrics=[\"accuracy\"])\n",
    "\n",
    "latent_model.fit(latent_x_train, y_train, batch_size=batch_size, epochs=60, validation_split=0.1, callbacks=[es])\n",
    "\n",
    "latent_model.evaluate(latent_x_test,y_test)"
   ]
  },
  {
   "cell_type": "code",
   "execution_count": null,
   "id": "6c7f53ba",
   "metadata": {},
   "outputs": [],
   "source": [
    "arches = ['resnet18','resnet34']\n",
    "for seed in SEEDS:\n",
    "    np.random.seed(0)\n",
    "    np.random.seed(seed)\n",
    "    random.seed(seed)\n",
    "    tf.random.set_seed(seed)\n",
    "    for arch in arches:\n",
    "        "
   ]
  },
  {
   "cell_type": "code",
   "execution_count": 33,
   "id": "b0b9ee3a",
   "metadata": {},
   "outputs": [
    {
     "name": "stdout",
     "output_type": "stream",
     "text": [
      "x_train shape: (60000, 28, 28)\n",
      "60000 train samples\n",
      "10000 test samples\n"
     ]
    }
   ],
   "source": [
    "# Model / data parameters\n",
    "num_classes = 10\n",
    "input_shape = (32, 32, 3)\n",
    "\n",
    "# the data, split between train and test sets\n",
    "(x_train, y_train), (x_test, y_test) = keras.datasets.cifar10.load_data()\n",
    "\n",
    "# Scale images to the [0, 1] range\n",
    "x_train = x_train.astype(\"float32\") / 255\n",
    "x_test = x_test.astype(\"float32\") / 255\n",
    "\n",
    "print(\"x_train shape:\", x_train.shape)\n",
    "print(x_train.shape[0], \"train samples\")\n",
    "print(x_test.shape[0], \"test samples\")\n",
    "\n",
    "\n",
    "# convert class vectors to binary class matrices\n",
    "y_train = keras.utils.to_categorical(y_train, num_classes)\n",
    "y_test = keras.utils.to_categorical(y_test, num_classes)"
   ]
  },
  {
   "cell_type": "code",
   "execution_count": 22,
   "id": "240d0693",
   "metadata": {},
   "outputs": [
    {
     "ename": "AttributeError",
     "evalue": "'NoneType' object has no attribute 'add'",
     "output_type": "error",
     "traceback": [
      "\u001b[1;31m---------------------------------------------------------------------------\u001b[0m",
      "\u001b[1;31mAttributeError\u001b[0m                            Traceback (most recent call last)",
      "\u001b[1;32m<ipython-input-22-6316ce4af121>\u001b[0m in \u001b[0;36m<module>\u001b[1;34m\u001b[0m\n\u001b[0;32m      9\u001b[0m )\n\u001b[0;32m     10\u001b[0m \u001b[0mcl_model\u001b[0m \u001b[1;33m=\u001b[0m \u001b[0mbase_model\u001b[0m\u001b[1;33m.\u001b[0m\u001b[0madd\u001b[0m\u001b[1;33m(\u001b[0m\u001b[0mlayers\u001b[0m\u001b[1;33m.\u001b[0m\u001b[0mFlatten\u001b[0m\u001b[1;33m(\u001b[0m\u001b[1;33m)\u001b[0m\u001b[1;33m)\u001b[0m\u001b[1;33m\u001b[0m\u001b[1;33m\u001b[0m\u001b[0m\n\u001b[1;32m---> 11\u001b[1;33m \u001b[0mcl_model\u001b[0m \u001b[1;33m=\u001b[0m \u001b[0mcl_model\u001b[0m\u001b[1;33m.\u001b[0m\u001b[0madd\u001b[0m\u001b[1;33m(\u001b[0m\u001b[0mlayers\u001b[0m\u001b[1;33m.\u001b[0m\u001b[0mDense\u001b[0m\u001b[1;33m(\u001b[0m\u001b[0mnum_classes\u001b[0m\u001b[1;33m,\u001b[0m \u001b[0mactivation\u001b[0m\u001b[1;33m=\u001b[0m\u001b[1;34m\"softmax\"\u001b[0m\u001b[1;33m)\u001b[0m\u001b[1;33m)\u001b[0m\u001b[1;33m\u001b[0m\u001b[1;33m\u001b[0m\u001b[0m\n\u001b[0m",
      "\u001b[1;31mAttributeError\u001b[0m: 'NoneType' object has no attribute 'add'"
     ]
    }
   ],
   "source": [
    "model = keras.Sequential(\n",
    "    [\n",
    "        keras.Input(shape=input_shape),\n",
    "        layers.Conv2D(32, kernel_size=(3, 3), activation=\"relu\"),\n",
    "        layers.MaxPooling2D(pool_size=(2, 2)),\n",
    "        layers.Conv2D(64, kernel_size=(3, 3), activation=\"relu\"),\n",
    "        layers.MaxPooling2D(pool_size=(2, 2)),\n",
    "        layers.Flatten(),\n",
    "        layers.Dropout(0.5),\n",
    "        layers.Dense(num_classes, activation=\"softmax\"),\n",
    "    ]\n",
    ")\n"
   ]
  },
  {
   "cell_type": "code",
   "execution_count": null,
   "id": "4b0668bc",
   "metadata": {},
   "outputs": [],
   "source": []
  },
  {
   "cell_type": "code",
   "execution_count": 21,
   "id": "1fa577ab",
   "metadata": {},
   "outputs": [
    {
     "name": "stdout",
     "output_type": "stream",
     "text": [
      "Epoch 1/30\n",
      "352/352 [==============================] - 2s 4ms/step - loss: 1.9102 - accuracy: 0.3073 - val_loss: 1.4400 - val_accuracy: 0.4990\n",
      "Epoch 2/30\n",
      "352/352 [==============================] - 1s 4ms/step - loss: 1.4265 - accuracy: 0.4919 - val_loss: 1.2628 - val_accuracy: 0.5676\n",
      "Epoch 3/30\n",
      "352/352 [==============================] - 1s 4ms/step - loss: 1.3033 - accuracy: 0.5433 - val_loss: 1.1745 - val_accuracy: 0.5986\n",
      "Epoch 4/30\n",
      "352/352 [==============================] - 1s 4ms/step - loss: 1.2200 - accuracy: 0.5732 - val_loss: 1.1070 - val_accuracy: 0.6292\n",
      "Epoch 5/30\n",
      "352/352 [==============================] - 1s 4ms/step - loss: 1.1506 - accuracy: 0.6014 - val_loss: 1.0536 - val_accuracy: 0.6414\n",
      "Epoch 6/30\n",
      "352/352 [==============================] - 1s 3ms/step - loss: 1.1120 - accuracy: 0.6137 - val_loss: 1.0254 - val_accuracy: 0.6534\n",
      "Epoch 7/30\n",
      "352/352 [==============================] - 1s 4ms/step - loss: 1.0748 - accuracy: 0.6227 - val_loss: 1.0109 - val_accuracy: 0.6628\n",
      "Epoch 8/30\n",
      "352/352 [==============================] - 1s 4ms/step - loss: 1.0397 - accuracy: 0.6385 - val_loss: 0.9711 - val_accuracy: 0.6732\n",
      "Epoch 9/30\n",
      "352/352 [==============================] - 1s 4ms/step - loss: 1.0230 - accuracy: 0.6434 - val_loss: 0.9434 - val_accuracy: 0.6906\n",
      "Epoch 10/30\n",
      "352/352 [==============================] - 1s 3ms/step - loss: 0.9988 - accuracy: 0.6539 - val_loss: 0.9529 - val_accuracy: 0.6772\n",
      "Epoch 11/30\n",
      "352/352 [==============================] - 1s 3ms/step - loss: 0.9853 - accuracy: 0.6574 - val_loss: 0.9436 - val_accuracy: 0.6858\n",
      "Epoch 00011: early stopping\n",
      "313/313 [==============================] - ETA: 0s - loss: 0.9572 - accuracy: 0.67 - 1s 2ms/step - loss: 0.9570 - accuracy: 0.6759\n"
     ]
    },
    {
     "data": {
      "text/plain": [
       "[0.9570028185844421, 0.6758999824523926]"
      ]
     },
     "execution_count": 21,
     "metadata": {},
     "output_type": "execute_result"
    }
   ],
   "source": [
    "batch_size = 128\n",
    "epochs = 30\n",
    "\n",
    "from tensorflow.keras.callbacks import EarlyStopping\n",
    "es = EarlyStopping(monitor='val_loss', mode='min', verbose=1, patience=2)\n",
    "\n",
    "model.compile(loss=\"categorical_crossentropy\", optimizer=\"adam\", metrics=[\"accuracy\"])\n",
    "\n",
    "model.fit(x_train, y_train, batch_size=batch_size, epochs=epochs, validation_split=0.1, callbacks=[es])\n",
    "\n",
    "model.evaluate(x_test,y_test)"
   ]
  },
  {
   "cell_type": "code",
   "execution_count": 15,
   "id": "7199f458",
   "metadata": {},
   "outputs": [
    {
     "name": "stdout",
     "output_type": "stream",
     "text": [
      "[[ 976    0    1    0    1    0    0    1    1    0]\n",
      " [   0 1132    2    0    0    0    0    1    0    0]\n",
      " [   1    1 1024    0    2    0    0    4    0    0]\n",
      " [   0    0    2 1004    0    2    0    1    1    0]\n",
      " [   0    0    0    0  981    0    0    0    0    1]\n",
      " [   1    0    0    6    0  883    1    0    1    0]\n",
      " [   3    2    1    0    2    2  947    0    1    0]\n",
      " [   0    4    1    0    0    0    0 1021    1    1]\n",
      " [   3    0    2    1    0    1    0    3  961    3]\n",
      " [   0    0    0    0    7    4    0    6    1  991]]\n"
     ]
    }
   ],
   "source": [
    "from sklearn.metrics import confusion_matrix\n",
    "\n",
    "preds = model.predict(x_test)\n",
    "cm = confusion_matrix(y_test.argmax(axis=1), preds.argmax(axis=1))\n",
    "print(cm)"
   ]
  },
  {
   "cell_type": "code",
   "execution_count": 106,
   "id": "966fc949",
   "metadata": {},
   "outputs": [
    {
     "name": "stdout",
     "output_type": "stream",
     "text": [
      "Epoch 1/60\n",
      "422/422 [==============================] - 6s 14ms/step - loss: 0.6962 - accuracy: 0.8299 - val_loss: 0.0590 - val_accuracy: 0.9807\n",
      "Epoch 2/60\n",
      "422/422 [==============================] - 5s 13ms/step - loss: 0.0558 - accuracy: 0.9818 - val_loss: 0.0400 - val_accuracy: 0.9882\n",
      "Epoch 3/60\n",
      "422/422 [==============================] - 5s 13ms/step - loss: 0.0401 - accuracy: 0.9874 - val_loss: 0.0347 - val_accuracy: 0.9888\n",
      "Epoch 4/60\n",
      "422/422 [==============================] - 5s 13ms/step - loss: 0.0272 - accuracy: 0.9915 - val_loss: 0.0386 - val_accuracy: 0.9882\n",
      "Epoch 5/60\n",
      "422/422 [==============================] - 5s 13ms/step - loss: 0.0242 - accuracy: 0.9926 - val_loss: 0.0315 - val_accuracy: 0.9912\n",
      "Epoch 6/60\n",
      "422/422 [==============================] - 5s 13ms/step - loss: 0.0201 - accuracy: 0.9939 - val_loss: 0.0341 - val_accuracy: 0.9912\n",
      "Epoch 7/60\n",
      "422/422 [==============================] - 5s 13ms/step - loss: 0.0182 - accuracy: 0.9937 - val_loss: 0.0363 - val_accuracy: 0.9898\n",
      "Epoch 00007: early stopping\n",
      "313/313 [==============================] - 2s 7ms/step - loss: 0.0348 - accuracy: 0.9892\n"
     ]
    },
    {
     "data": {
      "text/plain": [
       "[0.03483564034104347, 0.9891999959945679]"
      ]
     },
     "execution_count": 106,
     "metadata": {},
     "output_type": "execute_result"
    }
   ],
   "source": [
    "cl_model.compile(loss=\"categorical_crossentropy\", optimizer=\"adam\", metrics=[\"accuracy\"])\n",
    "\n",
    "cl_model.fit(x_train, y_train, batch_size=batch_size, epochs=epochs, validation_split=0.1, callbacks=[es])\n",
    "\n",
    "cl_model.evaluate(x_test,y_test)"
   ]
  },
  {
   "cell_type": "code",
   "execution_count": null,
   "id": "0bfe8487",
   "metadata": {},
   "outputs": [],
   "source": []
  }
 ],
 "metadata": {
  "kernelspec": {
   "display_name": "Python [conda env:tf2plat]",
   "language": "python",
   "name": "conda-env-tf2plat-py"
  },
  "language_info": {
   "codemirror_mode": {
    "name": "ipython",
    "version": 3
   },
   "file_extension": ".py",
   "mimetype": "text/x-python",
   "name": "python",
   "nbconvert_exporter": "python",
   "pygments_lexer": "ipython3",
   "version": "3.8.5"
  }
 },
 "nbformat": 4,
 "nbformat_minor": 5
}
